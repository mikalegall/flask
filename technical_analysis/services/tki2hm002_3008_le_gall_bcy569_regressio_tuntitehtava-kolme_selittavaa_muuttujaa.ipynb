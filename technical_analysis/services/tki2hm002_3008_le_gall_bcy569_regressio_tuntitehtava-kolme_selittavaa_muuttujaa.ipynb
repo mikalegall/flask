{
 "cells": [
  {
   "cell_type": "markdown",
   "metadata": {},
   "source": [
    "Perusprosessissa Data Wrangling \n",
    "<br>\n",
    "https://en.wikipedia.org/wiki/Data_wrangling\n",
    "<br>\n",
    "eli datan valmistelu (ETL putsaus jne) vie yleensä 80% työajasta. Datan valmistelu koneoppimisen malleja varten:\n",
    "<br>\n",
    "https://nbviewer.jupyter.org/github/taanila/tilastoapu/blob/master/datan_valmistelu.ipynb\n",
    "<br>\n",
    "Luokittele sen jälkeen pystyrivit (sarakkeet) joko kategorisiin tai määrällisiin. Ja esitä analytiikan osa-alueen (perinteisen neliportaisen tason) mukaisia, siis ihmismielelle mielekkäitä, kysymyksiä aineistolle:\n"
   ]
  },
  {
   "cell_type": "markdown",
   "metadata": {},
   "source": [
    "#### Ennakoiva analytiikka: Koneoppiminen\n",
    "https://tilastoapu.wordpress.com/2019/08/03/koneoppiminen-ja-scikit-learn-kirjasto/\n",
    "#### Lähestyminen valitaan sen mukaan<br>1. onko jo etukäteen saatavilla ennustettavan muuttujan todellisia arvoja (label) vahvistettuina tietoina (training set eli opetusdata, supervised learning)<br>2. vai ei (unsupervised learning) ja kolmantena mahdollisuutena on<br>3. algoritmin palkitseminen tai rankaiseminen (reinforcement learning) sen suorittaessa analytiikkaa\n",
    "\n",
    "Koneoppiminen opetusdatasta (supervised learning):\n",
    "<br>\n",
    "Lähestyminen valitaan sen mukaan onko ennustettavan muuttujan (target) arvot kategorisia (discrete label) vai määrällisiä (continuous label):\n",
    "<br>\n",
    "Kategoriselle muuttujalle luokittelumalli\n",
    "<br>\n",
    "Määrälliselle muuttujalle regressio-malli\n",
    "<br>\n",
    "Feature matrix tarkoittaa muuttujia, jotka selittävät ennustettavaa muuttujaa (target)\n",
    "<br>\n",
    "<font color=\"grey\">Koneoppiminen ilman opetusdataa (unsupervised learning):\n",
    "<br>\n",
    "Klusterointi-malli (pyritään löytämään yhteen kuuluvat havainnot, esim. K-means)\n",
    "<br>\n",
    "Yksinkertaistamisen malli (core: pienin mahdollinen määrä muuttujia joka selittää riittävästi asiaa, esim. pääkomponenttianalyysi)\n",
    "<br>\n",
    "<i>Syvä oppiminen (deep learning) pohjautuu neuroverkkomenetelmiin, joilla pyritään myös jäljittelemään ihmisaivojenkin toimintaa</i>\n",
    "</font>"
   ]
  },
  {
   "cell_type": "markdown",
   "metadata": {},
   "source": [
    "SUPERVISED LEARNING (<b><font color=\"red\">eri malleja pitää vaan työläästi kokeilla</font></b>)\n",
    "<br>\n",
    "<b>Luokittelumalleja kategoriselle muuttujalle</b>:\n",
    "<br>\n",
    "Naiivi Bayes, Logistinen regressio, Päätöspuut (decision trees). K lähintä naapuria (K nearest neighbor)\n",
    "<br>\n",
    "käyttötarkoituksena esim:\n",
    "<br>\n",
    "OCR (Optical Character Recognition) eli kuvapikseleistä esim. auton rekisterinumeron muuttaminen tekstiksi, kuvapikseleistä esineen tunnistaminen, röntgenkuvasta sairauden tunnistaminen, maksuhäiriöön ajautumisen todennäköisyys, vakuutuspetos, roskapostin suodatus jne\n",
    "<br>\n",
    "<br>\n",
    "<b>Regressiomalleja määrälliselle muuttujalle</b> (selittävä feature matrix on määrällinen muuttuja, koska korrelaatio):\n",
    "<br>\n",
    "lineaarinen regressio (etsitään suora viiva joka parhaiten kulkee havaintojen kautta)\n",
    "<br>\n",
    "käyttötarkoituksena esim:\n",
    "<br>\n",
    "kysynnän ennustaminen, asunnon hinta (onko saunaa, parveketta tms), käytetyn auton hinta jne"
   ]
  },
  {
   "cell_type": "code",
   "execution_count": null,
   "metadata": {},
   "outputs": [],
   "source": []
  },
  {
   "cell_type": "markdown",
   "metadata": {},
   "source": [
    "REGRESSIO"
   ]
  },
  {
   "cell_type": "code",
   "execution_count": 1,
   "metadata": {},
   "outputs": [
    {
     "data": {
      "text/plain": [
       "['Solarize_Light2',\n",
       " '_classic_test_patch',\n",
       " 'bmh',\n",
       " 'classic',\n",
       " 'dark_background',\n",
       " 'fast',\n",
       " 'fivethirtyeight',\n",
       " 'ggplot',\n",
       " 'grayscale',\n",
       " 'seaborn',\n",
       " 'seaborn-bright',\n",
       " 'seaborn-colorblind',\n",
       " 'seaborn-dark',\n",
       " 'seaborn-dark-palette',\n",
       " 'seaborn-darkgrid',\n",
       " 'seaborn-deep',\n",
       " 'seaborn-muted',\n",
       " 'seaborn-notebook',\n",
       " 'seaborn-paper',\n",
       " 'seaborn-pastel',\n",
       " 'seaborn-poster',\n",
       " 'seaborn-talk',\n",
       " 'seaborn-ticks',\n",
       " 'seaborn-white',\n",
       " 'seaborn-whitegrid',\n",
       " 'tableau-colorblind10']"
      ]
     },
     "execution_count": 1,
     "metadata": {},
     "output_type": "execute_result"
    }
   ],
   "source": [
    "#Tuodaan käytettäväksi data-analytiikan kirjasto pandas ja\n",
    "#lyhennetään sitä kutsuttavaksi aliaksella pd\n",
    "## https://pandas.pydata.org/docs/user_guide/dsintro.html#dataframe\n",
    "import pandas as pd\n",
    "\n",
    "#Tuodaan graafiseen esittämiseen matplotlib ja sen käyttöliittymäksi pyplot\n",
    "## https://matplotlib.org/stable/api/_as_gen/matplotlib.pyplot.html?highlight=pyplot#module-matplotlib.pyplot\n",
    "import matplotlib.pyplot as plt\n",
    "\n",
    "#Vaaditaan vanhoissa Juptter Notebook versioissa, jotta kaaviot tulostuvat\n",
    "%matplotlib inline\n",
    "\n",
    "#Katsotaan millaisia erilaisia muotoilutyylejä on saatavilla\n",
    "plt.style.available"
   ]
  },
  {
   "cell_type": "code",
   "execution_count": 2,
   "metadata": {},
   "outputs": [],
   "source": [
    "#Valitaan graafinen esittäminen muotoiltavaksi tietyllä tyylillä\n",
    "plt.style.use('seaborn-whitegrid')\n",
    "\n",
    "#Tuodaan graafisen esittämisen tyylimäärittelyt erilaisilla kaaviolajeilla\n",
    "#ja käytetään tätä tarvittaessa matplotlib esitysten \"ylikirjoittamiseen\"\n",
    "#(korvaamiseen silloin kun on silmälle mukavampia vaihtoehtoja tarjolla)\n",
    "import seaborn as sns\n",
    "\n",
    "#Asetetaan näytettävien rivien rajoite (ei rajoitetta)\n",
    "pd.options.display.max_rows = None\n",
    "#Asetetaan näytettävien sarakkeiden rajoite (ei rajoitetta)\n",
    "pd.options.display.max_columns = None\n"
   ]
  },
  {
   "cell_type": "markdown",
   "metadata": {},
   "source": [
    "<i>Historiallisen tiedon selittävän analytiikan riippuvuuksien jatkamista tulevaisuuteen</i>\n",
    "<br>\n",
    "Lineaarinen regressio:\n",
    "<br>\n",
    "https://tilastoapu.wordpress.com/lineaarinen/\n",
    "<br>\n",
    "1 ennustettava määrällinen muuttuja (target)\n",
    "* Kysynnän ennustaminen (target) muutettaessa <b><font color =\"red\">yhden</font></b> Feature matrix muuttujan arvoa"
   ]
  },
  {
   "cell_type": "code",
   "execution_count": 3,
   "metadata": {},
   "outputs": [
    {
     "name": "stdout",
     "output_type": "stream",
     "text": [
      "<class 'pandas.core.frame.DataFrame'>\n",
      "RangeIndex: 10 entries, 0 to 9\n",
      "Data columns (total 3 columns):\n",
      " #   Column              Non-Null Count  Dtype  \n",
      "---  ------              --------------  -----  \n",
      " 0   Kuukausi            10 non-null     int64  \n",
      " 1   Mainoskulut 1000 €  10 non-null     float64\n",
      " 2   Myynti 1000 €       10 non-null     int64  \n",
      "dtypes: float64(1), int64(2)\n",
      "memory usage: 368.0 bytes\n"
     ]
    }
   ],
   "source": [
    "#DataFrame --> df\n",
    "# Excel https://pandas.pydata.org/pandas-docs/stable/reference/api/pandas.read_excel.html\n",
    "df = pd.read_excel('https://taanila.fi/linreg1.xlsx')\n",
    "##Jatkossa df tulkitaan oletuksena pd:n kirjaston käyttäjäksi\n",
    "\n",
    "#Tarkistetaan lähdetiedoston metatiedoista monessako sarakkeessa on\n",
    "#minkäkin verran arvoja ja mitä tyyppiä ne sisältää\n",
    "df.info()\n",
    "\n",
    "# Jos CSV https://pandas.pydata.org/pandas-docs/stable/reference/api/pandas.read_csv.html\n",
    "#TARKISTA TARVITAANKO\n",
    "##sepstr, default ‘,’\n",
    "##usecolslist-like or callable, optional\n",
    "\n",
    "#Pandas kirjastolla noudetaan txt-tiedostot ikään kuin ne olisivat csv-tiedostoja\n",
    "##erotimerkin muoto tulee ilmaista\n",
    "### sep='\\s+'"
   ]
  },
  {
   "cell_type": "code",
   "execution_count": 4,
   "metadata": {},
   "outputs": [
    {
     "data": {
      "text/html": [
       "<div>\n",
       "<style scoped>\n",
       "    .dataframe tbody tr th:only-of-type {\n",
       "        vertical-align: middle;\n",
       "    }\n",
       "\n",
       "    .dataframe tbody tr th {\n",
       "        vertical-align: top;\n",
       "    }\n",
       "\n",
       "    .dataframe thead th {\n",
       "        text-align: right;\n",
       "    }\n",
       "</style>\n",
       "<table border=\"1\" class=\"dataframe\">\n",
       "  <thead>\n",
       "    <tr style=\"text-align: right;\">\n",
       "      <th></th>\n",
       "      <th>Kuukausi</th>\n",
       "      <th>Mainoskulut 1000 €</th>\n",
       "      <th>Myynti 1000 €</th>\n",
       "    </tr>\n",
       "  </thead>\n",
       "  <tbody>\n",
       "    <tr>\n",
       "      <th>5</th>\n",
       "      <td>6</td>\n",
       "      <td>0.8</td>\n",
       "      <td>82</td>\n",
       "    </tr>\n",
       "    <tr>\n",
       "      <th>6</th>\n",
       "      <td>7</td>\n",
       "      <td>1.0</td>\n",
       "      <td>93</td>\n",
       "    </tr>\n",
       "    <tr>\n",
       "      <th>7</th>\n",
       "      <td>8</td>\n",
       "      <td>0.6</td>\n",
       "      <td>75</td>\n",
       "    </tr>\n",
       "    <tr>\n",
       "      <th>8</th>\n",
       "      <td>9</td>\n",
       "      <td>0.9</td>\n",
       "      <td>91</td>\n",
       "    </tr>\n",
       "    <tr>\n",
       "      <th>9</th>\n",
       "      <td>10</td>\n",
       "      <td>1.1</td>\n",
       "      <td>105</td>\n",
       "    </tr>\n",
       "  </tbody>\n",
       "</table>\n",
       "</div>"
      ],
      "text/plain": [
       "   Kuukausi  Mainoskulut 1000 €  Myynti 1000 €\n",
       "5         6                 0.8             82\n",
       "6         7                 1.0             93\n",
       "7         8                 0.6             75\n",
       "8         9                 0.9             91\n",
       "9        10                 1.1            105"
      ]
     },
     "execution_count": 4,
     "metadata": {},
     "output_type": "execute_result"
    }
   ],
   "source": [
    "#Kurkataan 5 vikaa riviä niinkuin Linuxissa ja nähdään siten rivien määrä\n",
    "df.tail()\n",
    "##tai 5 ekaa riviä\n",
    "##df.head()"
   ]
  },
  {
   "cell_type": "code",
   "execution_count": 5,
   "metadata": {},
   "outputs": [
    {
     "data": {
      "text/html": [
       "<div>\n",
       "<style scoped>\n",
       "    .dataframe tbody tr th:only-of-type {\n",
       "        vertical-align: middle;\n",
       "    }\n",
       "\n",
       "    .dataframe tbody tr th {\n",
       "        vertical-align: top;\n",
       "    }\n",
       "\n",
       "    .dataframe thead th {\n",
       "        text-align: right;\n",
       "    }\n",
       "</style>\n",
       "<table border=\"1\" class=\"dataframe\">\n",
       "  <thead>\n",
       "    <tr style=\"text-align: right;\">\n",
       "      <th></th>\n",
       "      <th>Kuukausi</th>\n",
       "      <th>Mainoskulut 1000 €</th>\n",
       "      <th>Myynti 1000 €</th>\n",
       "    </tr>\n",
       "  </thead>\n",
       "  <tbody>\n",
       "    <tr>\n",
       "      <th>7</th>\n",
       "      <td>8</td>\n",
       "      <td>0.6</td>\n",
       "      <td>75</td>\n",
       "    </tr>\n",
       "    <tr>\n",
       "      <th>5</th>\n",
       "      <td>6</td>\n",
       "      <td>0.8</td>\n",
       "      <td>82</td>\n",
       "    </tr>\n",
       "    <tr>\n",
       "      <th>4</th>\n",
       "      <td>5</td>\n",
       "      <td>0.7</td>\n",
       "      <td>90</td>\n",
       "    </tr>\n",
       "  </tbody>\n",
       "</table>\n",
       "</div>"
      ],
      "text/plain": [
       "   Kuukausi  Mainoskulut 1000 €  Myynti 1000 €\n",
       "7         8                 0.6             75\n",
       "5         6                 0.8             82\n",
       "4         5                 0.7             90"
      ]
     },
     "execution_count": 5,
     "metadata": {},
     "output_type": "execute_result"
    }
   ],
   "source": [
    "#Näytetään kolme pienintä arvoa sarakkeesta 'Myynti 1000 €' \n",
    "df.nsmallest(n=3,columns='Myynti 1000 €')"
   ]
  },
  {
   "cell_type": "code",
   "execution_count": 6,
   "metadata": {},
   "outputs": [
    {
     "data": {
      "text/html": [
       "<div>\n",
       "<style scoped>\n",
       "    .dataframe tbody tr th:only-of-type {\n",
       "        vertical-align: middle;\n",
       "    }\n",
       "\n",
       "    .dataframe tbody tr th {\n",
       "        vertical-align: top;\n",
       "    }\n",
       "\n",
       "    .dataframe thead th {\n",
       "        text-align: right;\n",
       "    }\n",
       "</style>\n",
       "<table border=\"1\" class=\"dataframe\">\n",
       "  <thead>\n",
       "    <tr style=\"text-align: right;\">\n",
       "      <th></th>\n",
       "      <th>Kuukausi</th>\n",
       "      <th>Mainoskulut 1000 €</th>\n",
       "      <th>Myynti 1000 €</th>\n",
       "    </tr>\n",
       "  </thead>\n",
       "  <tbody>\n",
       "    <tr>\n",
       "      <th>3</th>\n",
       "      <td>4</td>\n",
       "      <td>1.3</td>\n",
       "      <td>120</td>\n",
       "    </tr>\n",
       "    <tr>\n",
       "      <th>2</th>\n",
       "      <td>3</td>\n",
       "      <td>1.0</td>\n",
       "      <td>110</td>\n",
       "    </tr>\n",
       "    <tr>\n",
       "      <th>9</th>\n",
       "      <td>10</td>\n",
       "      <td>1.1</td>\n",
       "      <td>105</td>\n",
       "    </tr>\n",
       "  </tbody>\n",
       "</table>\n",
       "</div>"
      ],
      "text/plain": [
       "   Kuukausi  Mainoskulut 1000 €  Myynti 1000 €\n",
       "3         4                 1.3            120\n",
       "2         3                 1.0            110\n",
       "9        10                 1.1            105"
      ]
     },
     "execution_count": 6,
     "metadata": {},
     "output_type": "execute_result"
    }
   ],
   "source": [
    "#Näytetään kolme suurinta arvoa sarakkeesta 'Myynti 1000 €' \n",
    "df.nlargest(n=3,columns='Myynti 1000 €')"
   ]
  },
  {
   "cell_type": "code",
   "execution_count": 7,
   "metadata": {},
   "outputs": [
    {
     "data": {
      "text/html": [
       "<div>\n",
       "<style scoped>\n",
       "    .dataframe tbody tr th:only-of-type {\n",
       "        vertical-align: middle;\n",
       "    }\n",
       "\n",
       "    .dataframe tbody tr th {\n",
       "        vertical-align: top;\n",
       "    }\n",
       "\n",
       "    .dataframe thead th {\n",
       "        text-align: right;\n",
       "    }\n",
       "</style>\n",
       "<table border=\"1\" class=\"dataframe\">\n",
       "  <thead>\n",
       "    <tr style=\"text-align: right;\">\n",
       "      <th></th>\n",
       "      <th>Kuukausi</th>\n",
       "      <th>Mainoskulut 1000 €</th>\n",
       "      <th>Myynti 1000 €</th>\n",
       "    </tr>\n",
       "  </thead>\n",
       "  <tbody>\n",
       "    <tr>\n",
       "      <th>0</th>\n",
       "      <td>1</td>\n",
       "      <td>1.2</td>\n",
       "      <td>101</td>\n",
       "    </tr>\n",
       "    <tr>\n",
       "      <th>2</th>\n",
       "      <td>3</td>\n",
       "      <td>1.0</td>\n",
       "      <td>110</td>\n",
       "    </tr>\n",
       "    <tr>\n",
       "      <th>3</th>\n",
       "      <td>4</td>\n",
       "      <td>1.3</td>\n",
       "      <td>120</td>\n",
       "    </tr>\n",
       "    <tr>\n",
       "      <th>9</th>\n",
       "      <td>10</td>\n",
       "      <td>1.1</td>\n",
       "      <td>105</td>\n",
       "    </tr>\n",
       "  </tbody>\n",
       "</table>\n",
       "</div>"
      ],
      "text/plain": [
       "   Kuukausi  Mainoskulut 1000 €  Myynti 1000 €\n",
       "0         1                 1.2            101\n",
       "2         3                 1.0            110\n",
       "3         4                 1.3            120\n",
       "9        10                 1.1            105"
      ]
     },
     "execution_count": 7,
     "metadata": {},
     "output_type": "execute_result"
    }
   ],
   "source": [
    "#Numeromuotoisen sarakkeen suodatus\n",
    "##Noudetaan data framesta Pandas kirjaston toiminnolla ne rivt, joissa\n",
    "#sarakkeen 'Myynti 1000 €' arvo on suurempi kuin 100 (suodatetaan rajoittimella > 100) \n",
    "df[ df['Myynti 1000 €'] > 100 ]\n",
    "##Uloimmat hakasulut viittaavat muuttujan df \"alkioon\" / sarakkeeseen ja\n",
    "#niiden hakasulkujen sisällä suoritetaan suodatus"
   ]
  },
  {
   "cell_type": "code",
   "execution_count": 8,
   "metadata": {},
   "outputs": [
    {
     "data": {
      "text/plain": [
       "Kuukausi              0\n",
       "Mainoskulut 1000 €    0\n",
       "Myynti 1000 €         0\n",
       "dtype: int64"
      ]
     },
     "execution_count": 8,
     "metadata": {},
     "output_type": "execute_result"
    }
   ],
   "source": [
    "#Mahdollisten tyhjien arvojen tarkistus\n",
    "df.isnull().sum()"
   ]
  },
  {
   "cell_type": "code",
   "execution_count": 9,
   "metadata": {},
   "outputs": [
    {
     "data": {
      "text/html": [
       "<div>\n",
       "<style scoped>\n",
       "    .dataframe tbody tr th:only-of-type {\n",
       "        vertical-align: middle;\n",
       "    }\n",
       "\n",
       "    .dataframe tbody tr th {\n",
       "        vertical-align: top;\n",
       "    }\n",
       "\n",
       "    .dataframe thead th {\n",
       "        text-align: right;\n",
       "    }\n",
       "</style>\n",
       "<table border=\"1\" class=\"dataframe\">\n",
       "  <thead>\n",
       "    <tr style=\"text-align: right;\">\n",
       "      <th></th>\n",
       "      <th>Mainoskulut 1000 €</th>\n",
       "      <th>Myynti 1000 €</th>\n",
       "    </tr>\n",
       "  </thead>\n",
       "  <tbody>\n",
       "    <tr>\n",
       "      <th>Mainoskulut 1000 €</th>\n",
       "      <td>1.000000</td>\n",
       "      <td>0.875442</td>\n",
       "    </tr>\n",
       "    <tr>\n",
       "      <th>Myynti 1000 €</th>\n",
       "      <td>0.875442</td>\n",
       "      <td>1.000000</td>\n",
       "    </tr>\n",
       "  </tbody>\n",
       "</table>\n",
       "</div>"
      ],
      "text/plain": [
       "                    Mainoskulut 1000 €  Myynti 1000 €\n",
       "Mainoskulut 1000 €            1.000000       0.875442\n",
       "Myynti 1000 €                 0.875442       1.000000"
      ]
     },
     "execution_count": 9,
     "metadata": {},
     "output_type": "execute_result"
    }
   ],
   "source": [
    "#Tarkistetaan onko määrällisten feature matrixiin valittavien\n",
    "#selittävien muuttujien (tässä tapauksessa vain 'Mainoskulut 1000 €')\n",
    "#välillä korrelaatiota määrälliseen target muuttujaan ('Myynti 1000 €''),\n",
    "#jotta tulevaisuuden arvailu (ennustamisyritys) olisi mielekästä\n",
    "df_temp = df.drop('Kuukausi', axis = 1)\n",
    "df_temp.corr()"
   ]
  },
  {
   "cell_type": "markdown",
   "metadata": {},
   "source": [
    "Mitä kauempana nollasta sitä suurempi riippuvuus:\n",
    "<br>\n",
    "Positiivinen korrelaatio tarkoittaa sitä, että kun toinen kasvaa tai laskee, niin toinen seuraa myös perässä.\n",
    "<br>\n",
    "Negatiivinen eli käänteinen korrelaatio tarkoittaa sitä, että kun toinen menee yhteen suuntaan, niin toinen menee vastakkaiseen suuntan.\n",
    "\n",
    "Korrelaatiokertoimen osalta (otoskoon ollessa vähintään 30)\n",
    "<br>\n",
    "alle 0,3 tulos kertoo siitä, että muuttujien välillä ei ole juurikaan suoraviivaista riippuvuutta\n",
    "<br>\n",
    "tulos 0,3-0,7 kertoo siitä, että muuttujien välillä on jonkin verran suoraviivaista riippuvuutta\n",
    "<br>\n",
    "yli 0,7 tulos kertoo siitä, että muuttujien välillä on selvä suoraviivainen riippuvuus"
   ]
  },
  {
   "cell_type": "markdown",
   "metadata": {},
   "source": [
    "* Valittujen muuttujien välillä vaikuttaisi olevan selvä suoraviivainen riippuvuus"
   ]
  },
  {
   "cell_type": "code",
   "execution_count": 10,
   "metadata": {},
   "outputs": [
    {
     "data": {
      "text/plain": [
       "<seaborn.axisgrid.PairGrid at 0x22f9c073ca0>"
      ]
     },
     "execution_count": 10,
     "metadata": {},
     "output_type": "execute_result"
    },
    {
     "data": {
      "image/png": "[encoded data removed]",
      "text/plain": [
       "<Figure size 360x360 with 6 Axes>"
      ]
     },
     "metadata": {},
     "output_type": "display_data"
    }
   ],
   "source": [
    "#Tarkastellaan muuttujien yhteyttä toisiinsa myös graafisesti\n",
    "#Hajontakaaviossa trendin eli lineaarisen mallin saa mukaan\n",
    "#antamalla \"kind\" parametrin arvoksi 'reg' \n",
    "sns.pairplot(df_temp, kind = 'reg')\n",
    "#Muuttuja itsessään esitetään histogrammina"
   ]
  },
  {
   "cell_type": "code",
   "execution_count": 11,
   "metadata": {},
   "outputs": [
    {
     "data": {
      "text/plain": [
       "<seaborn.axisgrid.JointGrid at 0x22fa0e54cd0>"
      ]
     },
     "execution_count": 11,
     "metadata": {},
     "output_type": "execute_result"
    },
    {
     "data": {
      "image/png": "[encoded data removed]",
      "text/plain": [
       "<Figure size 432x432 with 3 Axes>"
      ]
     },
     "metadata": {},
     "output_type": "display_data"
    }
   ],
   "source": [
    "#Muuttujien välisen yhteyden visualisointi yhdistettynä samaan kaavioon\n",
    "#Hajontakaaviossa suoraviivaisen riippuvuuden saa sen trendiviivan kuvan osalta mukaan\n",
    "#(suoraviivainen ennustemalli) antamalla \"kind\" parametrin arvoksi 'reg' \n",
    "sns.jointplot(data=df, x='Mainoskulut 1000 €', y='Myynti 1000 €', kind = 'reg')\n",
    "#Muuttuja itsessään esitetään histogrammina kaavion reunalla"
   ]
  },
  {
   "cell_type": "markdown",
   "metadata": {},
   "source": [
    "Malli on sitä parempi mitä enemmän havainnot keskittyvät lähemmäksi suoraa viivaa"
   ]
  },
  {
   "cell_type": "code",
   "execution_count": 12,
   "metadata": {},
   "outputs": [],
   "source": [
    "#Vakiintuneen tavan mukaan target (ennustettava muuttuja) on y\n",
    "y = df['Myynti 1000 €']\n",
    "\n",
    "#Vakiintuneen tavan mukaan feature matrix (selittävä muuttuja) on iso X\n",
    "##Hetken päästä käytettävä algoritmi vaatii, että X on DataFrame\n",
    "X = df['Mainoskulut 1000 €'].to_frame()"
   ]
  },
  {
   "cell_type": "markdown",
   "metadata": {},
   "source": [
    "### Ennakoivan analytiikan mallin sovitus datasettiin\n",
    "Koneoppimisessa kokeillaan erilaisia algoritmeja samaan historiadataan ja katsotaan mikä niistä arvaa parhaiten, kun ennustetta verrataan jo tiedossa oleviin toteumiin"
   ]
  },
  {
   "cell_type": "markdown",
   "metadata": {},
   "source": [
    "#### 1. algoritmi kokeilu (ensimmäinen sovitusyritys: Miten malli sopii toteumaan) "
   ]
  },
  {
   "cell_type": "code",
   "execution_count": 13,
   "metadata": {},
   "outputs": [],
   "source": [
    "#Ei asenneta Anacondassa vaan kerrotaan mistä \"from foo.bar\" tuodaan käytettäväksi \"import lorem_ipsus\"\n",
    "##toiminnallisuus, joka laskee lineaarisen regression\n",
    "from sklearn.linear_model import LinearRegression\n",
    "\n",
    "#Ennustemallille annetaan parametreina:\n",
    "#feature matrix (muutosta selittävät muuttujat) ja\n",
    "#target (ennustettava muuttuja, joka muuttuu feature matrixin muutosten vuoksi)\n",
    "malli = LinearRegression().fit(X,y)\n",
    "###komennolla fit() sovitetaan malli dataan. Se on se komento, jolla konetta opetetaan"
   ]
  },
  {
   "cell_type": "code",
   "execution_count": 14,
   "metadata": {},
   "outputs": [
    {
     "data": {
      "text/plain": [
       "array([52.56756757])"
      ]
     },
     "execution_count": 14,
     "metadata": {},
     "output_type": "execute_result"
    }
   ],
   "source": [
    "#Suoraviivaisen mallin trendiviivan/regressiosuoran kulmakerroin\n",
    "malli.coef_\n",
    "#Kulmakerroin tarkoittaa feature matrixin (X) muutoksen aiheuttavan\n",
    "#kulmakertoimen verran muutosta targetin (y) osalta\n",
    "##Tätä voisi ehkä kokeilla hintajouston (price elasticity) optimointiin"
   ]
  },
  {
   "cell_type": "code",
   "execution_count": 15,
   "metadata": {},
   "outputs": [
    {
     "data": {
      "text/plain": [
       "46.486486486486505"
      ]
     },
     "execution_count": 15,
     "metadata": {},
     "output_type": "execute_result"
    }
   ],
   "source": [
    "#Suoraviivaisen mallin vakiotermi\n",
    "malli.intercept_\n",
    "##Vakiotermi antaa targetille arvon feature matrixin ollessa nolla"
   ]
  },
  {
   "cell_type": "code",
   "execution_count": 16,
   "metadata": {},
   "outputs": [
    {
     "data": {
      "text/plain": [
       "0.7663982928521625"
      ]
     },
     "execution_count": 16,
     "metadata": {},
     "output_type": "execute_result"
    }
   ],
   "source": [
    "#Ennustemallin selityskerroin arvioi kuinka monta prosenttia targetin vaihtelusta\n",
    "#voidaan selittää feature matrixilla\n",
    "#(kuinka merkittäviä kokeiltavat selittävät muuttujat ovat)\n",
    "malli.score(X,y)"
   ]
  },
  {
   "cell_type": "code",
   "execution_count": 17,
   "metadata": {},
   "outputs": [
    {
     "data": {
      "text/plain": [
       "array([83.28378378, 88.54054054, 93.7972973 ])"
      ]
     },
     "execution_count": 17,
     "metadata": {},
     "output_type": "execute_result"
    }
   ],
   "source": [
    "#Ennustusta targetille voidaan kokeilla feature matrixin eri arvoilla\n",
    "malli.predict(pd.DataFrame([0.7, 0.8, 0.9]))\n",
    "##Esim. jos mainostetaan 800e, niin tämän \"import LinearRegression\" malli\n",
    "##ennakoi myynnin olevan 88.540e"
   ]
  },
  {
   "cell_type": "code",
   "execution_count": null,
   "metadata": {},
   "outputs": [],
   "source": []
  },
  {
   "cell_type": "code",
   "execution_count": null,
   "metadata": {},
   "outputs": [],
   "source": []
  },
  {
   "cell_type": "markdown",
   "metadata": {},
   "source": [
    "<i>Historiallisen tiedon selittävän analytiikan riippuvuuksien jatkamista tulevaisuuteen</i>\n",
    "<br>\n",
    "Lineaarinen regressio:\n",
    "<br>\n",
    "https://tilastoapu.wordpress.com/lineaarinen/\n",
    "<br>\n",
    "1 ennustettava määrällinen muuttuja (target)\n",
    "* Kysynnän ennustaminen (target) muutettaessa <b><font color =\"red\">enemmän kuin yhden</font></b> Feature matrix muuttujan arvoa\n",
    "<br>\n",
    "\n",
    "ESIMERKKI 1/2"
   ]
  },
  {
   "cell_type": "code",
   "execution_count": 18,
   "metadata": {},
   "outputs": [
    {
     "data": {
      "text/html": [
       "<div>\n",
       "<style scoped>\n",
       "    .dataframe tbody tr th:only-of-type {\n",
       "        vertical-align: middle;\n",
       "    }\n",
       "\n",
       "    .dataframe tbody tr th {\n",
       "        vertical-align: top;\n",
       "    }\n",
       "\n",
       "    .dataframe thead th {\n",
       "        text-align: right;\n",
       "    }\n",
       "</style>\n",
       "<table border=\"1\" class=\"dataframe\">\n",
       "  <thead>\n",
       "    <tr style=\"text-align: right;\">\n",
       "      <th></th>\n",
       "      <th>nro</th>\n",
       "      <th>ranta</th>\n",
       "      <th>pinta-ala</th>\n",
       "      <th>sähkö</th>\n",
       "      <th>hinta</th>\n",
       "    </tr>\n",
       "  </thead>\n",
       "  <tbody>\n",
       "    <tr>\n",
       "      <th>0</th>\n",
       "      <td>1</td>\n",
       "      <td>30</td>\n",
       "      <td>50</td>\n",
       "      <td>0</td>\n",
       "      <td>95</td>\n",
       "    </tr>\n",
       "    <tr>\n",
       "      <th>1</th>\n",
       "      <td>2</td>\n",
       "      <td>35</td>\n",
       "      <td>42</td>\n",
       "      <td>0</td>\n",
       "      <td>95</td>\n",
       "    </tr>\n",
       "    <tr>\n",
       "      <th>2</th>\n",
       "      <td>3</td>\n",
       "      <td>40</td>\n",
       "      <td>25</td>\n",
       "      <td>1</td>\n",
       "      <td>80</td>\n",
       "    </tr>\n",
       "    <tr>\n",
       "      <th>3</th>\n",
       "      <td>4</td>\n",
       "      <td>50</td>\n",
       "      <td>30</td>\n",
       "      <td>1</td>\n",
       "      <td>100</td>\n",
       "    </tr>\n",
       "    <tr>\n",
       "      <th>4</th>\n",
       "      <td>5</td>\n",
       "      <td>55</td>\n",
       "      <td>45</td>\n",
       "      <td>0</td>\n",
       "      <td>135</td>\n",
       "    </tr>\n",
       "    <tr>\n",
       "      <th>5</th>\n",
       "      <td>6</td>\n",
       "      <td>60</td>\n",
       "      <td>24</td>\n",
       "      <td>1</td>\n",
       "      <td>100</td>\n",
       "    </tr>\n",
       "    <tr>\n",
       "      <th>6</th>\n",
       "      <td>7</td>\n",
       "      <td>60</td>\n",
       "      <td>60</td>\n",
       "      <td>1</td>\n",
       "      <td>210</td>\n",
       "    </tr>\n",
       "    <tr>\n",
       "      <th>7</th>\n",
       "      <td>8</td>\n",
       "      <td>70</td>\n",
       "      <td>34</td>\n",
       "      <td>1</td>\n",
       "      <td>160</td>\n",
       "    </tr>\n",
       "    <tr>\n",
       "      <th>8</th>\n",
       "      <td>9</td>\n",
       "      <td>80</td>\n",
       "      <td>32</td>\n",
       "      <td>0</td>\n",
       "      <td>150</td>\n",
       "    </tr>\n",
       "    <tr>\n",
       "      <th>9</th>\n",
       "      <td>10</td>\n",
       "      <td>85</td>\n",
       "      <td>28</td>\n",
       "      <td>0</td>\n",
       "      <td>150</td>\n",
       "    </tr>\n",
       "  </tbody>\n",
       "</table>\n",
       "</div>"
      ],
      "text/plain": [
       "   nro  ranta  pinta-ala  sähkö  hinta\n",
       "0    1     30         50      0     95\n",
       "1    2     35         42      0     95\n",
       "2    3     40         25      1     80\n",
       "3    4     50         30      1    100\n",
       "4    5     55         45      0    135\n",
       "5    6     60         24      1    100\n",
       "6    7     60         60      1    210\n",
       "7    8     70         34      1    160\n",
       "8    9     80         32      0    150\n",
       "9   10     85         28      0    150"
      ]
     },
     "execution_count": 18,
     "metadata": {},
     "output_type": "execute_result"
    }
   ],
   "source": [
    "df_2 = pd.read_excel('http://taanila.fi/mokki.xlsx')\n",
    "df_2"
   ]
  },
  {
   "cell_type": "code",
   "execution_count": 19,
   "metadata": {},
   "outputs": [
    {
     "data": {
      "text/plain": [
       "nro          0\n",
       "ranta        0\n",
       "pinta-ala    0\n",
       "sähkö        0\n",
       "hinta        0\n",
       "dtype: int64"
      ]
     },
     "execution_count": 19,
     "metadata": {},
     "output_type": "execute_result"
    }
   ],
   "source": [
    "#Mahdollisten tyhjien arvojen tarkistus\n",
    "df_2.isnull().sum()"
   ]
  },
  {
   "cell_type": "code",
   "execution_count": 20,
   "metadata": {},
   "outputs": [
    {
     "data": {
      "text/plain": [
       "<seaborn.axisgrid.PairGrid at 0x22fa1c5f940>"
      ]
     },
     "execution_count": 20,
     "metadata": {},
     "output_type": "execute_result"
    },
    {
     "data": {
      "image/png": "[encoded data removed]",
      "text/plain": [
       "<Figure size 720x720 with 20 Axes>"
      ]
     },
     "metadata": {},
     "output_type": "display_data"
    }
   ],
   "source": [
    "df_temp2 = df_2.drop('nro', axis = 1)\n",
    "\n",
    "#Tarkastellaan useampien muuttujien (feature matrix) yhteyttä kerrallaan\n",
    "#targettiin (hinta) graafisesti\n",
    "#Hajontakaaviossa trendin eli lineaarisen mallin saa mukaan\n",
    "#antamalla \"kind\" parametrin arvoksi 'reg' \n",
    "sns.pairplot(df_temp2, kind='reg')\n",
    "#Muuttuja itsessään esitetään histogrammina"
   ]
  },
  {
   "cell_type": "markdown",
   "metadata": {},
   "source": [
    "Malli on sitä parempi mitä enemmän havainnot keskittyvät lähemmäksi suoraa viivaa.\n",
    "<br>\n",
    "Yllä olevan kaavion alinta riviä tarkastellessa vaikuttaa silmämääräisesti siltä, että havainnot keskittyvät korrelaation lineaarisen suoranviivan riippuvuuden osalta lähimmäksi \"trendiviivaa\" rannan ja hinnan välisessä yhteydessä "
   ]
  },
  {
   "cell_type": "code",
   "execution_count": 21,
   "metadata": {},
   "outputs": [
    {
     "data": {
      "text/html": [
       "<div>\n",
       "<style scoped>\n",
       "    .dataframe tbody tr th:only-of-type {\n",
       "        vertical-align: middle;\n",
       "    }\n",
       "\n",
       "    .dataframe tbody tr th {\n",
       "        vertical-align: top;\n",
       "    }\n",
       "\n",
       "    .dataframe thead th {\n",
       "        text-align: right;\n",
       "    }\n",
       "</style>\n",
       "<table border=\"1\" class=\"dataframe\">\n",
       "  <thead>\n",
       "    <tr style=\"text-align: right;\">\n",
       "      <th></th>\n",
       "      <th>ranta</th>\n",
       "      <th>pinta-ala</th>\n",
       "      <th>sähkö</th>\n",
       "      <th>hinta</th>\n",
       "    </tr>\n",
       "  </thead>\n",
       "  <tbody>\n",
       "    <tr>\n",
       "      <th>ranta</th>\n",
       "      <td>1.00</td>\n",
       "      <td>-0.31</td>\n",
       "      <td>-0.03</td>\n",
       "      <td>0.64</td>\n",
       "    </tr>\n",
       "    <tr>\n",
       "      <th>pinta-ala</th>\n",
       "      <td>-0.31</td>\n",
       "      <td>1.00</td>\n",
       "      <td>-0.21</td>\n",
       "      <td>0.48</td>\n",
       "    </tr>\n",
       "    <tr>\n",
       "      <th>sähkö</th>\n",
       "      <td>-0.03</td>\n",
       "      <td>-0.21</td>\n",
       "      <td>1.00</td>\n",
       "      <td>0.06</td>\n",
       "    </tr>\n",
       "    <tr>\n",
       "      <th>hinta</th>\n",
       "      <td>0.64</td>\n",
       "      <td>0.48</td>\n",
       "      <td>0.06</td>\n",
       "      <td>1.00</td>\n",
       "    </tr>\n",
       "  </tbody>\n",
       "</table>\n",
       "</div>"
      ],
      "text/plain": [
       "           ranta  pinta-ala  sähkö  hinta\n",
       "ranta       1.00      -0.31  -0.03   0.64\n",
       "pinta-ala  -0.31       1.00  -0.21   0.48\n",
       "sähkö      -0.03      -0.21   1.00   0.06\n",
       "hinta       0.64       0.48   0.06   1.00"
      ]
     },
     "execution_count": 21,
     "metadata": {},
     "output_type": "execute_result"
    }
   ],
   "source": [
    "#Tarkistetaan onko määrällisten feature matrixiin valittavien\n",
    "#selittävien muuttujien välillä korrelaatiota määrälliseen target muuttujaan\n",
    "#(hinta), jotta tulevaisuuden arvailu (ennustamisyritys) olisi mielekästä\n",
    "korrelaatio_matriisi = df_temp2.corr().round(2)\n",
    "##'.round(2)' on pyöristys kahteen desimaaliin\n",
    "korrelaatio_matriisi"
   ]
  },
  {
   "cell_type": "markdown",
   "metadata": {},
   "source": [
    "Mitä kauempana nollasta sitä suurempi riippuvuus:\n",
    "<br>\n",
    "Positiivinen korrelaatio tarkoittaa sitä, että kun toinen kasvaa tai laskee, niin toinen seuraa myös perässä.\n",
    "<br>\n",
    "Negatiivinen eli käänteinen korrelaatio tarkoittaa sitä, että kun toinen menee yhteen suuntaan, niin toinen menee vastakkaiseen suuntan.\n",
    "\n",
    "Korrelaatiokertoimen osalta (otoskoon ollessa vähintään 30)\n",
    "<br>\n",
    "alle 0,3 tulos kertoo siitä, että muuttujien välillä ei ole juurikaan suoraviivaista riippuvuutta\n",
    "<br>\n",
    "tulos 0,3-0,7 kertoo siitä, että muuttujien välillä on jonkin verran suoraviivaista riippuvuutta\n",
    "<br>\n",
    "yli 0,7 tulos kertoo siitä, että muuttujien välillä on selvä suoraviivainen riippuvuus"
   ]
  },
  {
   "cell_type": "markdown",
   "metadata": {},
   "source": [
    "* Tarkasteltavien feature matrix muuttujien osalta vaikuttaisi rannalla olevan jonkin verran suoraviivaista riippuvuutta targettiin (hinta)"
   ]
  },
  {
   "cell_type": "code",
   "execution_count": 22,
   "metadata": {},
   "outputs": [
    {
     "data": {
      "text/plain": [
       "<AxesSubplot:>"
      ]
     },
     "execution_count": 22,
     "metadata": {},
     "output_type": "execute_result"
    },
    {
     "data": {
      "image/png": "[encoded data removed]",
      "text/plain": [
       "<Figure size 432x288 with 2 Axes>"
      ]
     },
     "metadata": {},
     "output_type": "display_data"
    }
   ],
   "source": [
    "#Yllä olevan taulukon eri solujen värjäys\n",
    "sns.heatmap(korrelaatio_matriisi)"
   ]
  },
  {
   "cell_type": "code",
   "execution_count": 23,
   "metadata": {},
   "outputs": [
    {
     "data": {
      "text/plain": [
       "<AxesSubplot:>"
      ]
     },
     "execution_count": 23,
     "metadata": {},
     "output_type": "execute_result"
    },
    {
     "data": {
      "image/png": "[encoded data removed]",
      "text/plain": [
       "<Figure size 432x288 with 2 Axes>"
      ]
     },
     "metadata": {},
     "output_type": "display_data"
    }
   ],
   "source": [
    "#Lisäämällä HeatMap:piin \"annot = True\" lisätään värjättyihin soluihin\n",
    "#ne arvot, joiden perusteella väritys on suoritettu\n",
    "sns.heatmap(data=korrelaatio_matriisi, annot=True)"
   ]
  },
  {
   "cell_type": "markdown",
   "metadata": {},
   "source": [
    "Mitä kauempana nollasta sitä suurempi riippuvuus:\n",
    "<br>\n",
    "Positiivinen korrelaatio tarkoittaa sitä, että kun toinen kasvaa tai laskee, niin toinen seuraa myös perässä.\n",
    "<br>\n",
    "Negatiivinen eli käänteinen korrelaatio tarkoittaa sitä, että kun toinen menee yhteen suuntaan, niin toinen menee vastakkaiseen suuntan.\n",
    "\n",
    "Korrelaatiokertoimen osalta (otoskoon ollessa vähintään 30)\n",
    "<br>\n",
    "alle 0,3 tulos kertoo siitä, että muuttujien välillä ei ole juurikaan suoraviivaista riippuvuutta\n",
    "<br>\n",
    "tulos 0,3-0,7 kertoo siitä, että muuttujien välillä on jonkin verran suoraviivaista riippuvuutta\n",
    "<br>\n",
    "yli 0,7 tulos kertoo siitä, että muuttujien välillä on selvä suoraviivainen riippuvuus"
   ]
  },
  {
   "cell_type": "markdown",
   "metadata": {},
   "source": [
    "Tarkasteltavien feature matrix muuttujien osalta vaikuttaisi sähkö olevan ennustemallista pois jätettävä määrällinen muuttuja\n",
    "<br>\n",
    "<br>\n",
    "<b><font color=\"red\">Valitettavasti eri malleja pitää vaan työläästi kokeilla</font></b> eli käytettävissä olevassa datasetissä myös ilman korrelaatiota olevatkin määrälliset feature matrixin muuttujat voivat joissain tilanteissa olla osana tuottamassa paremmin todellista elämää vastaavaa ennustemallia "
   ]
  },
  {
   "cell_type": "code",
   "execution_count": 24,
   "metadata": {},
   "outputs": [],
   "source": [
    "#Vakiintuneen tavan mukaan target (ennustettava muuttuja) on y\n",
    "y_2 = df_2['hinta']\n",
    "\n",
    "#Vakiintuneen tavan mukaan feature matrix (selittävä muuttuja) on iso X\n",
    "##Hetken päästä käytettävä algoritmi vaatii, että X on DataFrame\n",
    "X_2 = df_2[['ranta', 'pinta-ala', 'sähkö']]"
   ]
  },
  {
   "cell_type": "markdown",
   "metadata": {},
   "source": [
    "### Ennakoivan analytiikan mallin sovitus datasettiin\n",
    "Koneoppimisessa kokeillaan erilaisia algoritmeja samaan historiadataan ja katsotaan mikä niistä arvaa parhaiten, kun ennustetta verrataan jo tiedossa oleviin toteumiin"
   ]
  },
  {
   "cell_type": "markdown",
   "metadata": {},
   "source": [
    "#### 1. algoritmi kokeilu (ensimmäinen sovitusyritys: Miten malli sopii toteumaan) "
   ]
  },
  {
   "cell_type": "code",
   "execution_count": 25,
   "metadata": {},
   "outputs": [],
   "source": [
    "#Ei asenneta Anacondassa vaan kerrotaan mistä \"from foo.bar\" tuodaan käytettäväksi \"import lorem_ipsus\"\n",
    "##toiminnallisuus, joka laskee lineaarisen regression\n",
    "from sklearn.linear_model import LinearRegression\n",
    "\n",
    "#Ennustemallille annetaan parametreina:\n",
    "#feature matrix (muutosta selittävät muuttujat) ja\n",
    "#target (ennustettava muuttuja, joka muuttuu feature matrixin muutosten vuoksi)\n",
    "malli_2 = LinearRegression().fit(X_2,y_2)\n",
    "###komennolla fit() sovitetaan malli dataan. Se on se komento, jolla konetta opetetaan"
   ]
  },
  {
   "cell_type": "code",
   "execution_count": 26,
   "metadata": {},
   "outputs": [
    {
     "data": {
      "text/plain": [
       "array([ 1.9750098 ,  2.77578415, 20.29877373])"
      ]
     },
     "execution_count": 26,
     "metadata": {},
     "output_type": "execute_result"
    }
   ],
   "source": [
    "#Suoraviivaisen mallin trendiviivan/regressiosuoran kulmakerroin\n",
    "malli_2.coef_\n",
    "#Kulmakerroin tarkoittaa feature matrixin (X) muutoksen aiheuttavan\n",
    "#kulmakertoimen verran muutosta targetin (y) osalta"
   ]
  },
  {
   "cell_type": "markdown",
   "metadata": {},
   "source": [
    "Rantaviivan pituus otetaan mukaan ennustemalliin kertoimella 1,975\n",
    "<br>\n",
    "Pinta-ala otetaan mukaan ennustemalliin kertoimella 2,775\n",
    "<br>\n",
    "<font color =\"red\">Sähkö otetaan mukaan ennustemalliin kertoimella 20,298(!?!)</font>"
   ]
  },
  {
   "cell_type": "code",
   "execution_count": 27,
   "metadata": {},
   "outputs": [
    {
     "data": {
      "text/plain": [
       "-96.94145434036429"
      ]
     },
     "execution_count": 27,
     "metadata": {},
     "output_type": "execute_result"
    }
   ],
   "source": [
    "#Suoraviivaisen mallin vakiotermi\n",
    "malli_2.intercept_\n",
    "##Vakiotermi antaa targetille arvon feature matrixin ollessa nolla"
   ]
  },
  {
   "cell_type": "markdown",
   "metadata": {},
   "source": [
    "Rantaviivan pituus * 1,975\n",
    "<br>\n",
    "+\n",
    "<br>\n",
    "Pinta-ala * 2,775\n",
    "<br>\n",
    "+\n",
    "<br>\n",
    "Sähköliittymä * 20,298\n",
    "<br>\n",
    " -- Vakiotermi 96.941\n",
    "<br>\n",
    "= Target (hinta) ilman yllä olevia feature matrix muuttujien vaikutusta"
   ]
  },
  {
   "cell_type": "code",
   "execution_count": 28,
   "metadata": {},
   "outputs": [
    {
     "data": {
      "text/plain": [
       "0.9819136190845802"
      ]
     },
     "execution_count": 28,
     "metadata": {},
     "output_type": "execute_result"
    }
   ],
   "source": [
    "#Ennustemallin selityskerroin arvioi kuinka monta prosenttia targetin vaihtelusta\n",
    "#voidaan selittää feature matrixilla\n",
    "#(kuinka merkittäviä kokeiltavat selittävät muuttujat ovat targetin muodostuksessa)\n",
    "malli_2.score(X_2,y_2)"
   ]
  },
  {
   "cell_type": "code",
   "execution_count": null,
   "metadata": {},
   "outputs": [],
   "source": []
  },
  {
   "cell_type": "markdown",
   "metadata": {},
   "source": [
    "#### 1. algoritmin soveltuvuuden arviointi (1/3): Onko ennustusvirheen perusteena sattumanvaraisuus, \"residual\""
   ]
  },
  {
   "cell_type": "code",
   "execution_count": 29,
   "metadata": {},
   "outputs": [
    {
     "data": {
      "text/plain": [
       "<matplotlib.collections.PathCollection at 0x22fa37ca280>"
      ]
     },
     "execution_count": 29,
     "metadata": {},
     "output_type": "execute_result"
    },
    {
     "data": {
      "image/png": "[encoded data removed]",
      "text/plain": [
       "<Figure size 432x288 with 1 Axes>"
      ]
     },
     "metadata": {},
     "output_type": "display_data"
    }
   ],
   "source": [
    "#Tarkastellaan miten ennuste osuu toteumaan plotaten graafisena visualisointina\n",
    "#miten juuri luotu ennustemalli olisi ennustanut koulutusdatan targetin ja\n",
    "#vähennetään siitä varsinainen koulutusdata eli toteuma, jolloin jäljelle\n",
    "#jää ennustevirhe\n",
    "plt.scatter(malli_2.predict(X_2), malli_2.predict(X_2)-y_2)"
   ]
  },
  {
   "cell_type": "code",
   "execution_count": 30,
   "metadata": {},
   "outputs": [
    {
     "data": {
      "text/plain": [
       "<matplotlib.collections.LineCollection at 0x22fa1c6c2e0>"
      ]
     },
     "execution_count": 30,
     "metadata": {},
     "output_type": "execute_result"
    },
    {
     "data": {
      "image/png": "[encoded data removed]",
      "text/plain": [
       "<Figure size 432x288 with 1 Axes>"
      ]
     },
     "metadata": {},
     "output_type": "display_data"
    }
   ],
   "source": [
    "#Lisätään keskikohtaan (nollatasolle) katkoviiva helpottamaan intuitiivista omaksumista\n",
    "##plt.axhline(y=0, color = 'gray', linewidth = 1, linestyle = '--')\n",
    "plt.hlines(y=0,xmin=50,xmax=250,color = 'gray', linewidth = 1, linestyle = '--')"
   ]
  },
  {
   "cell_type": "code",
   "execution_count": 31,
   "metadata": {},
   "outputs": [
    {
     "data": {
      "text/plain": [
       "Text(0, 0.5, 'Poikkeama todellisesta')"
      ]
     },
     "execution_count": 31,
     "metadata": {},
     "output_type": "execute_result"
    },
    {
     "data": {
      "image/png": "[encoded data removed]",
      "text/plain": [
       "<Figure size 432x288 with 1 Axes>"
      ]
     },
     "metadata": {},
     "output_type": "display_data"
    }
   ],
   "source": [
    "plt.scatter(malli_2.predict(X_2), malli_2.predict(X_2)-y_2)\n",
    "#Lisätään keskikohtaan (nollatasolle) katkoviiva helpottamaan intuitiivista omaksumista\n",
    "plt.hlines(y=0,xmin=50,xmax=250)\n",
    "\n",
    "#Akselien nimeäminen\n",
    "plt.xlabel('Ennuste')\n",
    "plt.ylabel('Poikkeama todellisesta')"
   ]
  },
  {
   "cell_type": "markdown",
   "metadata": {},
   "source": [
    "Yllä olevassa kaaviossa on havaittavissa, että ennuste voi mennä pieleen molempiin suuntiin.\n",
    "<br><br>\n",
    "Mikäli ennustevirhe graafisen visualisoinnin muodossa vaikuttaa silmämääräisesti toistuvan samankaltaisena (ilmenee säännönmukaisuutta), kertoo se siitä, että ennustamisessa on jätetty jotain oleellista huomioimatta. Sama asia toisin sanoin sanottuna olisi, että feature matrixiin on unohdettu laittaa jokin määrällinen muuttuja, jolla on suoraviivainen korrelaatiovaikutus targettiin.\n",
    "<br><br>\n",
    "Käytännössä kuitenkin kannattaa kokeilla muitakin algoritmejä, jos jokin toinen malli sopisi paremmin datasettiin"
   ]
  },
  {
   "cell_type": "code",
   "execution_count": null,
   "metadata": {},
   "outputs": [],
   "source": []
  },
  {
   "cell_type": "markdown",
   "metadata": {},
   "source": [
    "#### 1. algoritmin soveltuvuuden arviointi (2/3): Miten ennuste osuu toteumaan"
   ]
  },
  {
   "cell_type": "code",
   "execution_count": 32,
   "metadata": {},
   "outputs": [
    {
     "data": {
      "text/plain": [
       "Text(0, 0.5, 'Ennuste')"
      ]
     },
     "execution_count": 32,
     "metadata": {},
     "output_type": "execute_result"
    },
    {
     "data": {
      "image/png": "[encoded data removed]",
      "text/plain": [
       "<Figure size 432x288 with 1 Axes>"
      ]
     },
     "metadata": {},
     "output_type": "display_data"
    }
   ],
   "source": [
    "#Plotataan graafisena visualisointina miten juuri luotu ennustemalli\n",
    "#olisi ennustanut koulutusdatan targetin.\n",
    "#Mitä enemmän hajontakaavion pisteet seuraavat suoraa viivaa vasemmasta alakulmasta\n",
    "#oikeaan yläkulmaan, sitä parempi ennustemalli on\n",
    "plt.scatter(y_2, malli_2.predict(X_2))\n",
    "\n",
    "#Akselien nimeäminen\n",
    "plt.xlabel('Todellinen hinta')\n",
    "plt.ylabel('Ennuste')"
   ]
  },
  {
   "cell_type": "markdown",
   "metadata": {},
   "source": [
    "Mikäli malli ei vaikuta onnistuneelta voidaan havaintojen asettautumista suoralle linjalle koettaa edesauttaa vaihtelemalla feature matrixin määrällisiä muuttujia (tai kokeilemalla muita algoritmejä)"
   ]
  },
  {
   "cell_type": "code",
   "execution_count": 33,
   "metadata": {},
   "outputs": [
    {
     "data": {
      "text/html": [
       "<div>\n",
       "<style scoped>\n",
       "    .dataframe tbody tr th:only-of-type {\n",
       "        vertical-align: middle;\n",
       "    }\n",
       "\n",
       "    .dataframe tbody tr th {\n",
       "        vertical-align: top;\n",
       "    }\n",
       "\n",
       "    .dataframe thead th {\n",
       "        text-align: right;\n",
       "    }\n",
       "</style>\n",
       "<table border=\"1\" class=\"dataframe\">\n",
       "  <thead>\n",
       "    <tr style=\"text-align: right;\">\n",
       "      <th></th>\n",
       "      <th>ranta</th>\n",
       "      <th>pinta-ala</th>\n",
       "      <th>sähkö</th>\n",
       "    </tr>\n",
       "  </thead>\n",
       "  <tbody>\n",
       "    <tr>\n",
       "      <th>0</th>\n",
       "      <td>100</td>\n",
       "      <td>90</td>\n",
       "      <td>1</td>\n",
       "    </tr>\n",
       "    <tr>\n",
       "      <th>1</th>\n",
       "      <td>60</td>\n",
       "      <td>56</td>\n",
       "      <td>1</td>\n",
       "    </tr>\n",
       "    <tr>\n",
       "      <th>2</th>\n",
       "      <td>30</td>\n",
       "      <td>25</td>\n",
       "      <td>0</td>\n",
       "    </tr>\n",
       "    <tr>\n",
       "      <th>3</th>\n",
       "      <td>50</td>\n",
       "      <td>30</td>\n",
       "      <td>0</td>\n",
       "    </tr>\n",
       "  </tbody>\n",
       "</table>\n",
       "</div>"
      ],
      "text/plain": [
       "   ranta  pinta-ala  sähkö\n",
       "0    100         90      1\n",
       "1     60         56      1\n",
       "2     30         25      0\n",
       "3     50         30      0"
      ]
     },
     "execution_count": 33,
     "metadata": {},
     "output_type": "execute_result"
    }
   ],
   "source": [
    "#Uusi datasetti, jota algoritmi ei ole nähnyt koulutusvaiheessa\n",
    "#ja jossa ei ole hintoja tiedossa\n",
    "X_2_uudet = pd.read_excel('http://taanila.fi/mokkinew.xlsx')\n",
    "\n",
    "X_2_uudet"
   ]
  },
  {
   "cell_type": "code",
   "execution_count": 34,
   "metadata": {},
   "outputs": [
    {
     "data": {
      "text/html": [
       "<div>\n",
       "<style scoped>\n",
       "    .dataframe tbody tr th:only-of-type {\n",
       "        vertical-align: middle;\n",
       "    }\n",
       "\n",
       "    .dataframe tbody tr th {\n",
       "        vertical-align: top;\n",
       "    }\n",
       "\n",
       "    .dataframe thead th {\n",
       "        text-align: right;\n",
       "    }\n",
       "</style>\n",
       "<table border=\"1\" class=\"dataframe\">\n",
       "  <thead>\n",
       "    <tr style=\"text-align: right;\">\n",
       "      <th></th>\n",
       "      <th>ranta</th>\n",
       "      <th>pinta-ala</th>\n",
       "      <th>sähkö</th>\n",
       "      <th>Hintaennuste</th>\n",
       "    </tr>\n",
       "  </thead>\n",
       "  <tbody>\n",
       "    <tr>\n",
       "      <th>0</th>\n",
       "      <td>100</td>\n",
       "      <td>90</td>\n",
       "      <td>1</td>\n",
       "      <td>370.678873</td>\n",
       "    </tr>\n",
       "    <tr>\n",
       "      <th>1</th>\n",
       "      <td>60</td>\n",
       "      <td>56</td>\n",
       "      <td>1</td>\n",
       "      <td>197.301820</td>\n",
       "    </tr>\n",
       "    <tr>\n",
       "      <th>2</th>\n",
       "      <td>30</td>\n",
       "      <td>25</td>\n",
       "      <td>0</td>\n",
       "      <td>31.703444</td>\n",
       "    </tr>\n",
       "    <tr>\n",
       "      <th>3</th>\n",
       "      <td>50</td>\n",
       "      <td>30</td>\n",
       "      <td>0</td>\n",
       "      <td>85.082560</td>\n",
       "    </tr>\n",
       "  </tbody>\n",
       "</table>\n",
       "</div>"
      ],
      "text/plain": [
       "   ranta  pinta-ala  sähkö  Hintaennuste\n",
       "0    100         90      1    370.678873\n",
       "1     60         56      1    197.301820\n",
       "2     30         25      0     31.703444\n",
       "3     50         30      0     85.082560"
      ]
     },
     "execution_count": 34,
     "metadata": {},
     "output_type": "execute_result"
    }
   ],
   "source": [
    "#Lasketaan ennuste uudelle datasetille\n",
    "X_2_uudet['Hintaennuste'] = malli_2.predict(X_2_uudet)\n",
    "X_2_uudet"
   ]
  },
  {
   "cell_type": "code",
   "execution_count": null,
   "metadata": {},
   "outputs": [],
   "source": []
  },
  {
   "cell_type": "markdown",
   "metadata": {},
   "source": [
    "#### 1. algoritmin soveltuvuuden arviointi (3/3): Perinteisen regressiomallin (ei-lineaarinen regressio) vakiokuvaukset datalle"
   ]
  },
  {
   "cell_type": "code",
   "execution_count": 35,
   "metadata": {},
   "outputs": [
    {
     "name": "stdout",
     "output_type": "stream",
     "text": [
      "                            OLS Regression Results                            \n",
      "==============================================================================\n",
      "Dep. Variable:                  hinta   R-squared:                       0.982\n",
      "Model:                            OLS   Adj. R-squared:                  0.973\n",
      "Method:                 Least Squares   F-statistic:                     108.6\n",
      "Date:                Tue, 29 Jun 2021   Prob (F-statistic):           1.29e-05\n",
      "Time:                        21:23:13   Log-Likelihood:                -30.630\n",
      "No. Observations:                  10   AIC:                             69.26\n",
      "Df Residuals:                       6   BIC:                             70.47\n",
      "Df Model:                           3                                         \n",
      "Covariance Type:            nonrobust                                         \n",
      "==============================================================================\n",
      "                 coef    std err          t      P>|t|      [0.025      0.975]\n",
      "------------------------------------------------------------------------------\n",
      "const        -96.9415     12.767     -7.593      0.000    -128.180     -65.702\n",
      "ranta          1.9750      0.128     15.470      0.000       1.663       2.287\n",
      "pinta-ala      2.7758      0.203     13.674      0.000       2.279       3.272\n",
      "sähkö         20.2988      4.348      4.668      0.003       9.660      30.938\n",
      "==============================================================================\n",
      "Omnibus:                        0.493   Durbin-Watson:                   1.969\n",
      "Prob(Omnibus):                  0.782   Jarque-Bera (JB):                0.497\n",
      "Skew:                          -0.087   Prob(JB):                        0.780\n",
      "Kurtosis:                       1.922   Cond. No.                         421.\n",
      "==============================================================================\n",
      "\n",
      "Notes:\n",
      "[1] Standard Errors assume that the covariance matrix of the errors is correctly specified.\n"
     ]
    },
    {
     "name": "stderr",
     "output_type": "stream",
     "text": [
      "C:\\Users\\Administrator\\anaconda3\\lib\\site-packages\\scipy\\stats\\stats.py:1603: UserWarning: kurtosistest only valid for n>=20 ... continuing anyway, n=10\n",
      "  warnings.warn(\"kurtosistest only valid for n>=20 ... continuing \"\n"
     ]
    }
   ],
   "source": [
    "#Ei asenneta Anacondassa vaan kerrotaan mistä \"from foo.bar\" tuodaan käytettäväksi \"import lorem_ipsus\"\n",
    "##toiminnallisuus, joka laskee ei-lineaarisen regression\n",
    "import statsmodels.api as sm\n",
    "##statsmodels kirjasto ei ota luotavaan malliin mukaan vakiotermiä \n",
    "\n",
    "#Feature matrixiin vakiotermin lisäys\n",
    "X_3 = sm.add_constant(X_2)\n",
    "##Vakiotermi antaa targetille arvon feature matrixin ollessa nolla\n",
    "\n",
    "#Vakiintuneen tavan mukaan target (ennustettava muuttuja) on y\n",
    "y_3 = y_2\n",
    "\n",
    "#Ennustemallille annetaan parametreina:\n",
    "#feature matrix (muutosta selittävät muuttujat) ja\n",
    "#target (ennustettava muuttuja, joka muuttuu feature matrixin muutosten vuoksi)\n",
    "malli_3_sm = sm.OLS(y_3, X_3).fit()\n",
    "##ennustemalli lasketaan statsmodels kirjaston OLS-toiminnolla \n",
    "##komennolla fit() sovitetaan malli dataan. Se on se komento, jolla konetta opetetaan\n",
    "\n",
    "print(malli_3_sm.summary())"
   ]
  },
  {
   "cell_type": "markdown",
   "metadata": {},
   "source": [
    "P-arvo kertoo millä todennäköisyydellä riippuvuus on pelkkää sattumaa tai seurausta otantavirheestä. Alle 0,05 tulos kertoo merkitsevästä riippuvuudesta.\n",
    "<br><br>\n",
    "Targetin (Dep. Variable: hinta) ja feature matrixin 'sähkö' p-arvo on yllättäen reilusti alle 0,05.\n",
    "* Tässä tapauksessa <b>riippuvuus on merkitsevä, koska pearsonr -testin p-arvo on alle 0,05</b>.\n",
    "<br>\n",
    "\n",
    "T-testi testaa vertailtavien muuttujien keskiarvoja."
   ]
  },
  {
   "cell_type": "markdown",
   "metadata": {},
   "source": [
    "<b><font color=\"red\">Valitettavasti eri malleja pitää vaan työläästi kokeilla</font></b> eli käytettävissä olevassa datasetissä myös ilman korrelaatiota olevatkin määrälliset feature matrixin muuttujat voivat joissain tilanteissa olla osana tuottamassa paremmin todellista elämää vastaavaa ennustemallia "
   ]
  },
  {
   "cell_type": "code",
   "execution_count": null,
   "metadata": {},
   "outputs": [],
   "source": []
  },
  {
   "cell_type": "code",
   "execution_count": null,
   "metadata": {},
   "outputs": [],
   "source": []
  },
  {
   "cell_type": "markdown",
   "metadata": {},
   "source": [
    "<i>Historiallisen tiedon selittävän analytiikan riippuvuuksien jatkamista tulevaisuuteen</i>\n",
    "<br>\n",
    "Lineaarinen regressio:\n",
    "<br>\n",
    "https://tilastoapu.wordpress.com/lineaarinen/\n",
    "<br>\n",
    "1 ennustettava määrällinen muuttuja (target)\n",
    "* Kysynnän ennustaminen (target) muutettaessa <b><font color =\"red\">enemmän kuin yhden</font></b> Feature matrix muuttujan arvoa\n",
    "<br>\n",
    "\n",
    "ESIMERKKI 2/2"
   ]
  },
  {
   "cell_type": "code",
   "execution_count": 36,
   "metadata": {},
   "outputs": [
    {
     "data": {
      "text/plain": [
       "dict_keys(['data', 'target', 'feature_names', 'DESCR', 'filename'])"
      ]
     },
     "execution_count": 36,
     "metadata": {},
     "output_type": "execute_result"
    }
   ],
   "source": [
    "#Opetustarkoitukseen tarkoitetun aineiston noutaminen netistä\n",
    "#(esimerkkidataa Bostonin asuntojen hinnoista)\n",
    "from sklearn.datasets import load_boston\n",
    "boston_data = load_boston()\n",
    "\n",
    "#Dataan on valmiiksi muodostettu avain-arvo-pareja\n",
    "boston_data.keys()\n",
    "##target = target\n",
    "##data = feature matrix (kaikki mahdolliset selittävät muuttujat)\n",
    "##feature_names = selittävien muuttujien nimet\n",
    "##DESCR = Opetustarkoitukseen tarkoitetun aineiston kuvaus\n",
    "##filename = tiedoston nimi"
   ]
  },
  {
   "cell_type": "code",
   "execution_count": 37,
   "metadata": {},
   "outputs": [
    {
     "name": "stdout",
     "output_type": "stream",
     "text": [
      ".. _boston_dataset:\n",
      "\n",
      "Boston house prices dataset\n",
      "---------------------------\n",
      "\n",
      "**Data Set Characteristics:**  \n",
      "\n",
      "    :Number of Instances: 506 \n",
      "\n",
      "    :Number of Attributes: 13 numeric/categorical predictive. Median Value (attribute 14) is usually the target.\n",
      "\n",
      "    :Attribute Information (in order):\n",
      "        - CRIM     per capita crime rate by town\n",
      "        - ZN       proportion of residential land zoned for lots over 25,000 sq.ft.\n",
      "        - INDUS    proportion of non-retail business acres per town\n",
      "        - CHAS     Charles River dummy variable (= 1 if tract bounds river; 0 otherwise)\n",
      "        - NOX      nitric oxides concentration (parts per 10 million)\n",
      "        - RM       average number of rooms per dwelling\n",
      "        - AGE      proportion of owner-occupied units built prior to 1940\n",
      "        - DIS      weighted distances to five Boston employment centres\n",
      "        - RAD      index of accessibility to radial highways\n",
      "        - TAX      full-value property-tax rate per $10,000\n",
      "        - PTRATIO  pupil-teacher ratio by town\n",
      "        - B        1000(Bk - 0.63)^2 where Bk is the proportion of blacks by town\n",
      "        - LSTAT    % lower status of the population\n",
      "        - MEDV     Median value of owner-occupied homes in $1000's\n",
      "\n",
      "    :Missing Attribute Values: None\n",
      "\n",
      "    :Creator: Harrison, D. and Rubinfeld, D.L.\n",
      "\n",
      "This is a copy of UCI ML housing dataset.\n",
      "https://archive.ics.uci.edu/ml/machine-learning-databases/housing/\n",
      "\n",
      "\n",
      "This dataset was taken from the StatLib library which is maintained at Carnegie Mellon University.\n",
      "\n",
      "The Boston house-price data of Harrison, D. and Rubinfeld, D.L. 'Hedonic\n",
      "prices and the demand for clean air', J. Environ. Economics & Management,\n",
      "vol.5, 81-102, 1978.   Used in Belsley, Kuh & Welsch, 'Regression diagnostics\n",
      "...', Wiley, 1980.   N.B. Various transformations are used in the table on\n",
      "pages 244-261 of the latter.\n",
      "\n",
      "The Boston house-price data has been used in many machine learning papers that address regression\n",
      "problems.   \n",
      "     \n",
      ".. topic:: References\n",
      "\n",
      "   - Belsley, Kuh & Welsch, 'Regression diagnostics: Identifying Influential Data and Sources of Collinearity', Wiley, 1980. 244-261.\n",
      "   - Quinlan,R. (1993). Combining Instance-Based and Model-Based Learning. In Proceedings on the Tenth International Conference of Machine Learning, 236-243, University of Massachusetts, Amherst. Morgan Kaufmann.\n",
      "\n"
     ]
    }
   ],
   "source": [
    "print(boston_data.DESCR)\n",
    "#\"Median value of owner-occupied homes in $1000's\" is usually the target"
   ]
  },
  {
   "cell_type": "code",
   "execution_count": 38,
   "metadata": {},
   "outputs": [
    {
     "data": {
      "text/html": [
       "<div>\n",
       "<style scoped>\n",
       "    .dataframe tbody tr th:only-of-type {\n",
       "        vertical-align: middle;\n",
       "    }\n",
       "\n",
       "    .dataframe tbody tr th {\n",
       "        vertical-align: top;\n",
       "    }\n",
       "\n",
       "    .dataframe thead th {\n",
       "        text-align: right;\n",
       "    }\n",
       "</style>\n",
       "<table border=\"1\" class=\"dataframe\">\n",
       "  <thead>\n",
       "    <tr style=\"text-align: right;\">\n",
       "      <th></th>\n",
       "      <th>CRIM</th>\n",
       "      <th>ZN</th>\n",
       "      <th>INDUS</th>\n",
       "      <th>CHAS</th>\n",
       "      <th>NOX</th>\n",
       "      <th>RM</th>\n",
       "      <th>AGE</th>\n",
       "      <th>DIS</th>\n",
       "      <th>RAD</th>\n",
       "      <th>TAX</th>\n",
       "      <th>PTRATIO</th>\n",
       "      <th>B</th>\n",
       "      <th>LSTAT</th>\n",
       "      <th>MEDV</th>\n",
       "      <th>LSTAT2</th>\n",
       "    </tr>\n",
       "  </thead>\n",
       "  <tbody>\n",
       "    <tr>\n",
       "      <th>499</th>\n",
       "      <td>0.17783</td>\n",
       "      <td>0.0</td>\n",
       "      <td>9.69</td>\n",
       "      <td>0.0</td>\n",
       "      <td>0.585</td>\n",
       "      <td>5.569</td>\n",
       "      <td>73.5</td>\n",
       "      <td>2.3999</td>\n",
       "      <td>6.0</td>\n",
       "      <td>391.0</td>\n",
       "      <td>19.2</td>\n",
       "      <td>395.77</td>\n",
       "      <td>15.10</td>\n",
       "      <td>17.5</td>\n",
       "      <td>2.714695</td>\n",
       "    </tr>\n",
       "    <tr>\n",
       "      <th>500</th>\n",
       "      <td>0.22438</td>\n",
       "      <td>0.0</td>\n",
       "      <td>9.69</td>\n",
       "      <td>0.0</td>\n",
       "      <td>0.585</td>\n",
       "      <td>6.027</td>\n",
       "      <td>79.7</td>\n",
       "      <td>2.4982</td>\n",
       "      <td>6.0</td>\n",
       "      <td>391.0</td>\n",
       "      <td>19.2</td>\n",
       "      <td>396.90</td>\n",
       "      <td>14.33</td>\n",
       "      <td>16.8</td>\n",
       "      <td>2.662355</td>\n",
       "    </tr>\n",
       "    <tr>\n",
       "      <th>501</th>\n",
       "      <td>0.06263</td>\n",
       "      <td>0.0</td>\n",
       "      <td>11.93</td>\n",
       "      <td>0.0</td>\n",
       "      <td>0.573</td>\n",
       "      <td>6.593</td>\n",
       "      <td>69.1</td>\n",
       "      <td>2.4786</td>\n",
       "      <td>1.0</td>\n",
       "      <td>273.0</td>\n",
       "      <td>21.0</td>\n",
       "      <td>391.99</td>\n",
       "      <td>9.67</td>\n",
       "      <td>22.4</td>\n",
       "      <td>2.269028</td>\n",
       "    </tr>\n",
       "    <tr>\n",
       "      <th>502</th>\n",
       "      <td>0.04527</td>\n",
       "      <td>0.0</td>\n",
       "      <td>11.93</td>\n",
       "      <td>0.0</td>\n",
       "      <td>0.573</td>\n",
       "      <td>6.120</td>\n",
       "      <td>76.7</td>\n",
       "      <td>2.2875</td>\n",
       "      <td>1.0</td>\n",
       "      <td>273.0</td>\n",
       "      <td>21.0</td>\n",
       "      <td>396.90</td>\n",
       "      <td>9.08</td>\n",
       "      <td>20.6</td>\n",
       "      <td>2.206074</td>\n",
       "    </tr>\n",
       "    <tr>\n",
       "      <th>503</th>\n",
       "      <td>0.06076</td>\n",
       "      <td>0.0</td>\n",
       "      <td>11.93</td>\n",
       "      <td>0.0</td>\n",
       "      <td>0.573</td>\n",
       "      <td>6.976</td>\n",
       "      <td>91.0</td>\n",
       "      <td>2.1675</td>\n",
       "      <td>1.0</td>\n",
       "      <td>273.0</td>\n",
       "      <td>21.0</td>\n",
       "      <td>396.90</td>\n",
       "      <td>5.64</td>\n",
       "      <td>23.9</td>\n",
       "      <td>1.729884</td>\n",
       "    </tr>\n",
       "    <tr>\n",
       "      <th>504</th>\n",
       "      <td>0.10959</td>\n",
       "      <td>0.0</td>\n",
       "      <td>11.93</td>\n",
       "      <td>0.0</td>\n",
       "      <td>0.573</td>\n",
       "      <td>6.794</td>\n",
       "      <td>89.3</td>\n",
       "      <td>2.3889</td>\n",
       "      <td>1.0</td>\n",
       "      <td>273.0</td>\n",
       "      <td>21.0</td>\n",
       "      <td>393.45</td>\n",
       "      <td>6.48</td>\n",
       "      <td>22.0</td>\n",
       "      <td>1.868721</td>\n",
       "    </tr>\n",
       "    <tr>\n",
       "      <th>505</th>\n",
       "      <td>0.04741</td>\n",
       "      <td>0.0</td>\n",
       "      <td>11.93</td>\n",
       "      <td>0.0</td>\n",
       "      <td>0.573</td>\n",
       "      <td>6.030</td>\n",
       "      <td>80.8</td>\n",
       "      <td>2.5050</td>\n",
       "      <td>1.0</td>\n",
       "      <td>273.0</td>\n",
       "      <td>21.0</td>\n",
       "      <td>396.90</td>\n",
       "      <td>7.88</td>\n",
       "      <td>11.9</td>\n",
       "      <td>2.064328</td>\n",
       "    </tr>\n",
       "  </tbody>\n",
       "</table>\n",
       "</div>"
      ],
      "text/plain": [
       "        CRIM   ZN  INDUS  CHAS    NOX     RM   AGE     DIS  RAD    TAX  \\\n",
       "499  0.17783  0.0   9.69   0.0  0.585  5.569  73.5  2.3999  6.0  391.0   \n",
       "500  0.22438  0.0   9.69   0.0  0.585  6.027  79.7  2.4982  6.0  391.0   \n",
       "501  0.06263  0.0  11.93   0.0  0.573  6.593  69.1  2.4786  1.0  273.0   \n",
       "502  0.04527  0.0  11.93   0.0  0.573  6.120  76.7  2.2875  1.0  273.0   \n",
       "503  0.06076  0.0  11.93   0.0  0.573  6.976  91.0  2.1675  1.0  273.0   \n",
       "504  0.10959  0.0  11.93   0.0  0.573  6.794  89.3  2.3889  1.0  273.0   \n",
       "505  0.04741  0.0  11.93   0.0  0.573  6.030  80.8  2.5050  1.0  273.0   \n",
       "\n",
       "     PTRATIO       B  LSTAT  MEDV    LSTAT2  \n",
       "499     19.2  395.77  15.10  17.5  2.714695  \n",
       "500     19.2  396.90  14.33  16.8  2.662355  \n",
       "501     21.0  391.99   9.67  22.4  2.269028  \n",
       "502     21.0  396.90   9.08  20.6  2.206074  \n",
       "503     21.0  396.90   5.64  23.9  1.729884  \n",
       "504     21.0  393.45   6.48  22.0  1.868721  \n",
       "505     21.0  396.90   7.88  11.9  2.064328  "
      ]
     },
     "execution_count": 38,
     "metadata": {},
     "output_type": "execute_result"
    }
   ],
   "source": [
    "#DataFramen muodostus, johon sijoitetaan\n",
    "##data = feature matrix (kaikki mahdolliset selittävät muuttujat)\n",
    "##feature_names = selittävien muuttujien nimet\n",
    "df_3 = pd.DataFrame(boston_data.data, columns=boston_data.feature_names)\n",
    "\n",
    "#DataFrameen sarakkeen lisäys\n",
    "##target = target\n",
    "###\"Median value of owner-occupied homes in $1000's\" is usually the target\n",
    "df_3['MEDV'] = boston_data.target\n",
    "\n",
    "\n",
    "#Tuodaan käytettäväksi moniulotteisen datan käsittelyyn soveltuva kirjasto,\n",
    "#joka sisältää mm. logaritmin, ja\n",
    "#lyhennetään sitä kutsuttavaksi aliaksella\n",
    "import numpy as np\n",
    "# https://www.w3schools.com/python/numpy/numpy_intro.asp\n",
    "#Logaritmimuunnos hajontakaavion kaarevan käyrän\n",
    "#oikaisemisen yritykseksi (trendiviivan mukaiseksi)\n",
    "df_3['LSTAT2'] = np.log(df_3['LSTAT'])\n",
    "\n",
    "\n",
    "#Kurkataan 7 vikaa riviä niinkuin Linuxissa ja nähdään siten rivien määrä\n",
    "df_3.tail(7)\n",
    "##tai 5 ekaa riviä\n",
    "##df.head()"
   ]
  },
  {
   "cell_type": "code",
   "execution_count": 39,
   "metadata": {},
   "outputs": [
    {
     "name": "stdout",
     "output_type": "stream",
     "text": [
      "<class 'pandas.core.frame.DataFrame'>\n",
      "RangeIndex: 506 entries, 0 to 505\n",
      "Data columns (total 15 columns):\n",
      " #   Column   Non-Null Count  Dtype  \n",
      "---  ------   --------------  -----  \n",
      " 0   CRIM     506 non-null    float64\n",
      " 1   ZN       506 non-null    float64\n",
      " 2   INDUS    506 non-null    float64\n",
      " 3   CHAS     506 non-null    float64\n",
      " 4   NOX      506 non-null    float64\n",
      " 5   RM       506 non-null    float64\n",
      " 6   AGE      506 non-null    float64\n",
      " 7   DIS      506 non-null    float64\n",
      " 8   RAD      506 non-null    float64\n",
      " 9   TAX      506 non-null    float64\n",
      " 10  PTRATIO  506 non-null    float64\n",
      " 11  B        506 non-null    float64\n",
      " 12  LSTAT    506 non-null    float64\n",
      " 13  MEDV     506 non-null    float64\n",
      " 14  LSTAT2   506 non-null    float64\n",
      "dtypes: float64(15)\n",
      "memory usage: 59.4 KB\n"
     ]
    }
   ],
   "source": [
    "df_3.info()"
   ]
  },
  {
   "cell_type": "code",
   "execution_count": 40,
   "metadata": {},
   "outputs": [
    {
     "data": {
      "text/plain": [
       "CRIM       0\n",
       "ZN         0\n",
       "INDUS      0\n",
       "CHAS       0\n",
       "NOX        0\n",
       "RM         0\n",
       "AGE        0\n",
       "DIS        0\n",
       "RAD        0\n",
       "TAX        0\n",
       "PTRATIO    0\n",
       "B          0\n",
       "LSTAT      0\n",
       "MEDV       0\n",
       "LSTAT2     0\n",
       "dtype: int64"
      ]
     },
     "execution_count": 40,
     "metadata": {},
     "output_type": "execute_result"
    }
   ],
   "source": [
    "#Mahdollisten tyhjien arvojen tarkistus\n",
    "df_3.isnull().sum()"
   ]
  },
  {
   "cell_type": "code",
   "execution_count": 41,
   "metadata": {},
   "outputs": [
    {
     "name": "stderr",
     "output_type": "stream",
     "text": [
      "C:\\Users\\Administrator\\anaconda3\\lib\\site-packages\\seaborn\\distributions.py:2551: FutureWarning: `distplot` is a deprecated function and will be removed in a future version. Please adapt your code to use either `displot` (a figure-level function with similar flexibility) or `histplot` (an axes-level function for histograms).\n",
      "  warnings.warn(msg, FutureWarning)\n"
     ]
    },
    {
     "data": {
      "text/plain": [
       "<AxesSubplot:xlabel='MEDV', ylabel='Density'>"
      ]
     },
     "execution_count": 41,
     "metadata": {},
     "output_type": "execute_result"
    },
    {
     "data": {
      "image/png": "[encoded data removed]",
      "text/plain": [
       "<Figure size 432x288 with 1 Axes>"
      ]
     },
     "metadata": {},
     "output_type": "display_data"
    }
   ],
   "source": [
    "#Määrällinen muuttuja voidaan esittää luokiteltuna jakaumana\n",
    "##parametrilla 'bins' kerrotaan moneenko kateroriaan jaetaan\n",
    "sns.distplot(df_3['MEDV'], bins=30)"
   ]
  },
  {
   "cell_type": "markdown",
   "metadata": {},
   "source": [
    "Yllä oleva jakauma vaikuttaa symmetriseltä lukuunottamatta poikkeamaa yläpäässä"
   ]
  },
  {
   "cell_type": "code",
   "execution_count": 42,
   "metadata": {},
   "outputs": [
    {
     "data": {
      "text/html": [
       "<div>\n",
       "<style scoped>\n",
       "    .dataframe tbody tr th:only-of-type {\n",
       "        vertical-align: middle;\n",
       "    }\n",
       "\n",
       "    .dataframe tbody tr th {\n",
       "        vertical-align: top;\n",
       "    }\n",
       "\n",
       "    .dataframe thead th {\n",
       "        text-align: right;\n",
       "    }\n",
       "</style>\n",
       "<table border=\"1\" class=\"dataframe\">\n",
       "  <thead>\n",
       "    <tr style=\"text-align: right;\">\n",
       "      <th></th>\n",
       "      <th>CRIM</th>\n",
       "      <th>ZN</th>\n",
       "      <th>INDUS</th>\n",
       "      <th>CHAS</th>\n",
       "      <th>NOX</th>\n",
       "      <th>RM</th>\n",
       "      <th>AGE</th>\n",
       "      <th>DIS</th>\n",
       "      <th>RAD</th>\n",
       "      <th>TAX</th>\n",
       "      <th>PTRATIO</th>\n",
       "      <th>B</th>\n",
       "      <th>LSTAT</th>\n",
       "      <th>MEDV</th>\n",
       "      <th>LSTAT2</th>\n",
       "    </tr>\n",
       "  </thead>\n",
       "  <tbody>\n",
       "    <tr>\n",
       "      <th>CRIM</th>\n",
       "      <td>1.00</td>\n",
       "      <td>-0.20</td>\n",
       "      <td>0.41</td>\n",
       "      <td>-0.06</td>\n",
       "      <td>0.42</td>\n",
       "      <td>-0.22</td>\n",
       "      <td>0.35</td>\n",
       "      <td>-0.38</td>\n",
       "      <td>0.63</td>\n",
       "      <td>0.58</td>\n",
       "      <td>0.29</td>\n",
       "      <td>-0.39</td>\n",
       "      <td>0.46</td>\n",
       "      <td>-0.39</td>\n",
       "      <td>0.40</td>\n",
       "    </tr>\n",
       "    <tr>\n",
       "      <th>ZN</th>\n",
       "      <td>-0.20</td>\n",
       "      <td>1.00</td>\n",
       "      <td>-0.53</td>\n",
       "      <td>-0.04</td>\n",
       "      <td>-0.52</td>\n",
       "      <td>0.31</td>\n",
       "      <td>-0.57</td>\n",
       "      <td>0.66</td>\n",
       "      <td>-0.31</td>\n",
       "      <td>-0.31</td>\n",
       "      <td>-0.39</td>\n",
       "      <td>0.18</td>\n",
       "      <td>-0.41</td>\n",
       "      <td>0.36</td>\n",
       "      <td>-0.48</td>\n",
       "    </tr>\n",
       "    <tr>\n",
       "      <th>INDUS</th>\n",
       "      <td>0.41</td>\n",
       "      <td>-0.53</td>\n",
       "      <td>1.00</td>\n",
       "      <td>0.06</td>\n",
       "      <td>0.76</td>\n",
       "      <td>-0.39</td>\n",
       "      <td>0.64</td>\n",
       "      <td>-0.71</td>\n",
       "      <td>0.60</td>\n",
       "      <td>0.72</td>\n",
       "      <td>0.38</td>\n",
       "      <td>-0.36</td>\n",
       "      <td>0.60</td>\n",
       "      <td>-0.48</td>\n",
       "      <td>0.60</td>\n",
       "    </tr>\n",
       "    <tr>\n",
       "      <th>CHAS</th>\n",
       "      <td>-0.06</td>\n",
       "      <td>-0.04</td>\n",
       "      <td>0.06</td>\n",
       "      <td>1.00</td>\n",
       "      <td>0.09</td>\n",
       "      <td>0.09</td>\n",
       "      <td>0.09</td>\n",
       "      <td>-0.10</td>\n",
       "      <td>-0.01</td>\n",
       "      <td>-0.04</td>\n",
       "      <td>-0.12</td>\n",
       "      <td>0.05</td>\n",
       "      <td>-0.05</td>\n",
       "      <td>0.18</td>\n",
       "      <td>-0.07</td>\n",
       "    </tr>\n",
       "    <tr>\n",
       "      <th>NOX</th>\n",
       "      <td>0.42</td>\n",
       "      <td>-0.52</td>\n",
       "      <td>0.76</td>\n",
       "      <td>0.09</td>\n",
       "      <td>1.00</td>\n",
       "      <td>-0.30</td>\n",
       "      <td>0.73</td>\n",
       "      <td>-0.77</td>\n",
       "      <td>0.61</td>\n",
       "      <td>0.67</td>\n",
       "      <td>0.19</td>\n",
       "      <td>-0.38</td>\n",
       "      <td>0.59</td>\n",
       "      <td>-0.43</td>\n",
       "      <td>0.58</td>\n",
       "    </tr>\n",
       "    <tr>\n",
       "      <th>RM</th>\n",
       "      <td>-0.22</td>\n",
       "      <td>0.31</td>\n",
       "      <td>-0.39</td>\n",
       "      <td>0.09</td>\n",
       "      <td>-0.30</td>\n",
       "      <td>1.00</td>\n",
       "      <td>-0.24</td>\n",
       "      <td>0.21</td>\n",
       "      <td>-0.21</td>\n",
       "      <td>-0.29</td>\n",
       "      <td>-0.36</td>\n",
       "      <td>0.13</td>\n",
       "      <td>-0.61</td>\n",
       "      <td>0.70</td>\n",
       "      <td>-0.66</td>\n",
       "    </tr>\n",
       "    <tr>\n",
       "      <th>AGE</th>\n",
       "      <td>0.35</td>\n",
       "      <td>-0.57</td>\n",
       "      <td>0.64</td>\n",
       "      <td>0.09</td>\n",
       "      <td>0.73</td>\n",
       "      <td>-0.24</td>\n",
       "      <td>1.00</td>\n",
       "      <td>-0.75</td>\n",
       "      <td>0.46</td>\n",
       "      <td>0.51</td>\n",
       "      <td>0.26</td>\n",
       "      <td>-0.27</td>\n",
       "      <td>0.60</td>\n",
       "      <td>-0.38</td>\n",
       "      <td>0.61</td>\n",
       "    </tr>\n",
       "    <tr>\n",
       "      <th>DIS</th>\n",
       "      <td>-0.38</td>\n",
       "      <td>0.66</td>\n",
       "      <td>-0.71</td>\n",
       "      <td>-0.10</td>\n",
       "      <td>-0.77</td>\n",
       "      <td>0.21</td>\n",
       "      <td>-0.75</td>\n",
       "      <td>1.00</td>\n",
       "      <td>-0.49</td>\n",
       "      <td>-0.53</td>\n",
       "      <td>-0.23</td>\n",
       "      <td>0.29</td>\n",
       "      <td>-0.50</td>\n",
       "      <td>0.25</td>\n",
       "      <td>-0.48</td>\n",
       "    </tr>\n",
       "    <tr>\n",
       "      <th>RAD</th>\n",
       "      <td>0.63</td>\n",
       "      <td>-0.31</td>\n",
       "      <td>0.60</td>\n",
       "      <td>-0.01</td>\n",
       "      <td>0.61</td>\n",
       "      <td>-0.21</td>\n",
       "      <td>0.46</td>\n",
       "      <td>-0.49</td>\n",
       "      <td>1.00</td>\n",
       "      <td>0.91</td>\n",
       "      <td>0.46</td>\n",
       "      <td>-0.44</td>\n",
       "      <td>0.49</td>\n",
       "      <td>-0.38</td>\n",
       "      <td>0.46</td>\n",
       "    </tr>\n",
       "    <tr>\n",
       "      <th>TAX</th>\n",
       "      <td>0.58</td>\n",
       "      <td>-0.31</td>\n",
       "      <td>0.72</td>\n",
       "      <td>-0.04</td>\n",
       "      <td>0.67</td>\n",
       "      <td>-0.29</td>\n",
       "      <td>0.51</td>\n",
       "      <td>-0.53</td>\n",
       "      <td>0.91</td>\n",
       "      <td>1.00</td>\n",
       "      <td>0.46</td>\n",
       "      <td>-0.44</td>\n",
       "      <td>0.54</td>\n",
       "      <td>-0.47</td>\n",
       "      <td>0.52</td>\n",
       "    </tr>\n",
       "    <tr>\n",
       "      <th>PTRATIO</th>\n",
       "      <td>0.29</td>\n",
       "      <td>-0.39</td>\n",
       "      <td>0.38</td>\n",
       "      <td>-0.12</td>\n",
       "      <td>0.19</td>\n",
       "      <td>-0.36</td>\n",
       "      <td>0.26</td>\n",
       "      <td>-0.23</td>\n",
       "      <td>0.46</td>\n",
       "      <td>0.46</td>\n",
       "      <td>1.00</td>\n",
       "      <td>-0.18</td>\n",
       "      <td>0.37</td>\n",
       "      <td>-0.51</td>\n",
       "      <td>0.42</td>\n",
       "    </tr>\n",
       "    <tr>\n",
       "      <th>B</th>\n",
       "      <td>-0.39</td>\n",
       "      <td>0.18</td>\n",
       "      <td>-0.36</td>\n",
       "      <td>0.05</td>\n",
       "      <td>-0.38</td>\n",
       "      <td>0.13</td>\n",
       "      <td>-0.27</td>\n",
       "      <td>0.29</td>\n",
       "      <td>-0.44</td>\n",
       "      <td>-0.44</td>\n",
       "      <td>-0.18</td>\n",
       "      <td>1.00</td>\n",
       "      <td>-0.37</td>\n",
       "      <td>0.33</td>\n",
       "      <td>-0.34</td>\n",
       "    </tr>\n",
       "    <tr>\n",
       "      <th>LSTAT</th>\n",
       "      <td>0.46</td>\n",
       "      <td>-0.41</td>\n",
       "      <td>0.60</td>\n",
       "      <td>-0.05</td>\n",
       "      <td>0.59</td>\n",
       "      <td>-0.61</td>\n",
       "      <td>0.60</td>\n",
       "      <td>-0.50</td>\n",
       "      <td>0.49</td>\n",
       "      <td>0.54</td>\n",
       "      <td>0.37</td>\n",
       "      <td>-0.37</td>\n",
       "      <td>1.00</td>\n",
       "      <td>-0.74</td>\n",
       "      <td>0.94</td>\n",
       "    </tr>\n",
       "    <tr>\n",
       "      <th>MEDV</th>\n",
       "      <td>-0.39</td>\n",
       "      <td>0.36</td>\n",
       "      <td>-0.48</td>\n",
       "      <td>0.18</td>\n",
       "      <td>-0.43</td>\n",
       "      <td>0.70</td>\n",
       "      <td>-0.38</td>\n",
       "      <td>0.25</td>\n",
       "      <td>-0.38</td>\n",
       "      <td>-0.47</td>\n",
       "      <td>-0.51</td>\n",
       "      <td>0.33</td>\n",
       "      <td>-0.74</td>\n",
       "      <td>1.00</td>\n",
       "      <td>-0.82</td>\n",
       "    </tr>\n",
       "    <tr>\n",
       "      <th>LSTAT2</th>\n",
       "      <td>0.40</td>\n",
       "      <td>-0.48</td>\n",
       "      <td>0.60</td>\n",
       "      <td>-0.07</td>\n",
       "      <td>0.58</td>\n",
       "      <td>-0.66</td>\n",
       "      <td>0.61</td>\n",
       "      <td>-0.48</td>\n",
       "      <td>0.46</td>\n",
       "      <td>0.52</td>\n",
       "      <td>0.42</td>\n",
       "      <td>-0.34</td>\n",
       "      <td>0.94</td>\n",
       "      <td>-0.82</td>\n",
       "      <td>1.00</td>\n",
       "    </tr>\n",
       "  </tbody>\n",
       "</table>\n",
       "</div>"
      ],
      "text/plain": [
       "         CRIM    ZN  INDUS  CHAS   NOX    RM   AGE   DIS   RAD   TAX  PTRATIO  \\\n",
       "CRIM     1.00 -0.20   0.41 -0.06  0.42 -0.22  0.35 -0.38  0.63  0.58     0.29   \n",
       "ZN      -0.20  1.00  -0.53 -0.04 -0.52  0.31 -0.57  0.66 -0.31 -0.31    -0.39   \n",
       "INDUS    0.41 -0.53   1.00  0.06  0.76 -0.39  0.64 -0.71  0.60  0.72     0.38   \n",
       "CHAS    -0.06 -0.04   0.06  1.00  0.09  0.09  0.09 -0.10 -0.01 -0.04    -0.12   \n",
       "NOX      0.42 -0.52   0.76  0.09  1.00 -0.30  0.73 -0.77  0.61  0.67     0.19   \n",
       "RM      -0.22  0.31  -0.39  0.09 -0.30  1.00 -0.24  0.21 -0.21 -0.29    -0.36   \n",
       "AGE      0.35 -0.57   0.64  0.09  0.73 -0.24  1.00 -0.75  0.46  0.51     0.26   \n",
       "DIS     -0.38  0.66  -0.71 -0.10 -0.77  0.21 -0.75  1.00 -0.49 -0.53    -0.23   \n",
       "RAD      0.63 -0.31   0.60 -0.01  0.61 -0.21  0.46 -0.49  1.00  0.91     0.46   \n",
       "TAX      0.58 -0.31   0.72 -0.04  0.67 -0.29  0.51 -0.53  0.91  1.00     0.46   \n",
       "PTRATIO  0.29 -0.39   0.38 -0.12  0.19 -0.36  0.26 -0.23  0.46  0.46     1.00   \n",
       "B       -0.39  0.18  -0.36  0.05 -0.38  0.13 -0.27  0.29 -0.44 -0.44    -0.18   \n",
       "LSTAT    0.46 -0.41   0.60 -0.05  0.59 -0.61  0.60 -0.50  0.49  0.54     0.37   \n",
       "MEDV    -0.39  0.36  -0.48  0.18 -0.43  0.70 -0.38  0.25 -0.38 -0.47    -0.51   \n",
       "LSTAT2   0.40 -0.48   0.60 -0.07  0.58 -0.66  0.61 -0.48  0.46  0.52     0.42   \n",
       "\n",
       "            B  LSTAT  MEDV  LSTAT2  \n",
       "CRIM    -0.39   0.46 -0.39    0.40  \n",
       "ZN       0.18  -0.41  0.36   -0.48  \n",
       "INDUS   -0.36   0.60 -0.48    0.60  \n",
       "CHAS     0.05  -0.05  0.18   -0.07  \n",
       "NOX     -0.38   0.59 -0.43    0.58  \n",
       "RM       0.13  -0.61  0.70   -0.66  \n",
       "AGE     -0.27   0.60 -0.38    0.61  \n",
       "DIS      0.29  -0.50  0.25   -0.48  \n",
       "RAD     -0.44   0.49 -0.38    0.46  \n",
       "TAX     -0.44   0.54 -0.47    0.52  \n",
       "PTRATIO -0.18   0.37 -0.51    0.42  \n",
       "B        1.00  -0.37  0.33   -0.34  \n",
       "LSTAT   -0.37   1.00 -0.74    0.94  \n",
       "MEDV     0.33  -0.74  1.00   -0.82  \n",
       "LSTAT2  -0.34   0.94 -0.82    1.00  "
      ]
     },
     "execution_count": 42,
     "metadata": {},
     "output_type": "execute_result"
    }
   ],
   "source": [
    "#Tarkistetaan onko määrällisten feature matrixiin valittavien\n",
    "#selittävien muuttujien välillä korrelaatiota määrälliseen target muuttujaan\n",
    "#(hinta), jotta tulevaisuuden arvailu (ennustamisyritys) olisi mielekästä\n",
    "korrelaatio_matriisi_2 = df_3.corr().round(2)\n",
    "##'.round(2)' on pyöristys kahteen desimaaliin\n",
    "korrelaatio_matriisi_2"
   ]
  },
  {
   "cell_type": "code",
   "execution_count": 43,
   "metadata": {},
   "outputs": [
    {
     "data": {
      "text/plain": [
       "<AxesSubplot:>"
      ]
     },
     "execution_count": 43,
     "metadata": {},
     "output_type": "execute_result"
    },
    {
     "data": {
      "image/png": "[encoded data removed]",
      "text/plain": [
       "<Figure size 432x288 with 2 Axes>"
      ]
     },
     "metadata": {},
     "output_type": "display_data"
    }
   ],
   "source": [
    "#Yllä olevan taulukon eri solujen värjäys\n",
    "sns.heatmap(korrelaatio_matriisi_2)"
   ]
  },
  {
   "cell_type": "code",
   "execution_count": 44,
   "metadata": {},
   "outputs": [
    {
     "data": {
      "text/plain": [
       "<AxesSubplot:>"
      ]
     },
     "execution_count": 44,
     "metadata": {},
     "output_type": "execute_result"
    },
    {
     "data": {
      "image/png": "[encoded data removed]",
      "text/plain": [
       "<Figure size 1008x1008 with 2 Axes>"
      ]
     },
     "metadata": {},
     "output_type": "display_data"
    }
   ],
   "source": [
    "#Plotataan graafisena visualisointina suurentamalla\n",
    "#\"figsize\" esitysaluetta oletuskoostaan suuremmaksi\n",
    "plt.figure(figsize=(14, 14))\n",
    "\n",
    "#Lisäämällä HeatMap:piin \"annot = True\" lisätään värjättyihin soluihin\n",
    "#ne arvot, joiden perusteella väritys on suoritettu\n",
    "sns.heatmap(data=korrelaatio_matriisi_2, annot=True)\n",
    "##Target on alimmalla rivillä"
   ]
  },
  {
   "cell_type": "markdown",
   "metadata": {},
   "source": [
    "Mitä kauempana nollasta sitä suurempi riippuvuus:\n",
    "<br>\n",
    "Positiivinen korrelaatio tarkoittaa sitä, että kun toinen kasvaa tai laskee, niin toinen seuraa myös perässä.\n",
    "<br>\n",
    "Negatiivinen eli käänteinen korrelaatio tarkoittaa sitä, että kun toinen menee yhteen suuntaan, niin toinen menee vastakkaiseen suuntan.\n",
    "\n",
    "Korrelaatiokertoimen osalta (otoskoon ollessa vähintään 30)\n",
    "<br>\n",
    "alle 0,3 tulos kertoo siitä, että muuttujien välillä ei ole juurikaan suoraviivaista riippuvuutta\n",
    "<br>\n",
    "tulos 0,3-0,7 kertoo siitä, että muuttujien välillä on jonkin verran suoraviivaista riippuvuutta\n",
    "<br>\n",
    "yli 0,7 tulos kertoo siitä, että muuttujien välillä on selvä suoraviivainen riippuvuus\n",
    "\n",
    "HUOM! LSTAT-muuttuja muunnettuna logaritmilla muuttujaksi LSTAT2 omaa suuremman korrelaatiokertoimen kuin alkuperäinen LSTAT"
   ]
  },
  {
   "cell_type": "code",
   "execution_count": 45,
   "metadata": {
    "scrolled": true
   },
   "outputs": [
    {
     "data": {
      "image/png": "[encoded data removed]",
      "text/plain": [
       "<Figure size 720x360 with 3 Axes>"
      ]
     },
     "metadata": {},
     "output_type": "display_data"
    }
   ],
   "source": [
    "#feature matrixiin valitaan suurimmat korrelaatiot\n",
    "#features = ['LSTAT2', 'RM', 'PTRATIO']\n",
    "features = ['LSTAT', 'RM', 'PTRATIO']\n",
    "target = df_3['MEDV']\n",
    "\n",
    "#Tarkastellaan muuttujien yhteyttä toisiinsa plotaten\n",
    "#korrelaatio myös graafisesti hajontakaavioon\n",
    "plt.figure(figsize=(10, 5))\n",
    "\n",
    "#Feature matrixin läpikäynti ja useamman muuttujan plottaaminen\n",
    "##Toiminto 'enumerate' palauttaa feature matrixin muuttujan nimitiedon\n",
    "#(joka asetetaan x-labeliin) ja järjestysnumeron indeksiin jatkokäsiteltäväksi\n",
    "for i, feature in enumerate(features):\n",
    "    plt.subplot(1, len(features), i+1)#Kaavio 1 riville, len palauttaa featureiden määrän\n",
    "    plt.scatter(df_3[feature], target)\n",
    "    plt.xlabel(feature)\n",
    "    plt.ylabel('MEDV')"
   ]
  },
  {
   "cell_type": "markdown",
   "metadata": {},
   "source": [
    "Yllä olevassa hajontakaaviossa vaikuttaa feature matrixin määrällisen muuttujan ja targetin 'MEDV' välille olevan graafisesti esitettynä  pyrkimys muodostua visuaalisesti\n",
    "* vasemmalle käyrä kaari\n",
    "* keskelle suora viiva\n",
    "* oikealle elokuvan matrix vesiputous (visualisoituna häilyvä yhteys vasemmasta yläkulmasta oikeaan alakulmaan)"
   ]
  },
  {
   "cell_type": "code",
   "execution_count": null,
   "metadata": {},
   "outputs": [],
   "source": []
  },
  {
   "cell_type": "markdown",
   "metadata": {},
   "source": [
    "Datan valmistelua (Data Wrangling) sen jakamiseksi koulutusdataan ja testidataan"
   ]
  },
  {
   "cell_type": "code",
   "execution_count": 46,
   "metadata": {
    "scrolled": true
   },
   "outputs": [
    {
     "name": "stdout",
     "output_type": "stream",
     "text": [
      "(404, 3)\n",
      "(102, 3)\n",
      "(404,)\n",
      "(102,)\n"
     ]
    }
   ],
   "source": [
    "#Ei asenneta Anacondassa vaan kerrotaan mistä \"from foo.bar\" tuodaan käytettäväksi \"import lorem_ipsus\"\n",
    "##toiminnallisuus, joka jakaa datan\n",
    "from sklearn.model_selection import train_test_split\n",
    "\n",
    "#Vakiintuneen tavan mukaan target (ennustettava muuttuja) on y\n",
    "y_4 = target\n",
    "#Vakiintuneen tavan mukaan feature matrix (selittävä muuttuja) on iso X\n",
    "X_4 = df_3[features]\n",
    "\n",
    "#random_state arvo määrittelee miten data erotellaan opetus- ja testidataan\n",
    "##eri kokeilukerroilla tulee käyttää samaa arvoa (arvolla itsellään ei ole mitään merkitystä)\n",
    "##sillä jos aineisto on jaettu eri tavalla osiin voi päätyä hyvinkin erilaiseen malliin\n",
    "X_train, X_test, y_train, y_test = train_test_split(X_4, y_4, test_size = 0.2, random_state=5)\n",
    "\n",
    "#KAtsotaan millaisiin paloihin jako tapahtui\n",
    "print(X_train.shape)\n",
    "print(X_test.shape)\n",
    "print(y_train.shape)\n",
    "print(y_test.shape)"
   ]
  },
  {
   "cell_type": "markdown",
   "metadata": {},
   "source": [
    "### Ennakoivan analytiikan mallin sovitus datasettiin\n",
    "Koneoppimisessa kokeillaan erilaisia algoritmeja samaan historiadataan ja katsotaan mikä niistä arvaa parhaiten, kun ennustetta verrataan jo tiedossa oleviin toteumiin"
   ]
  },
  {
   "cell_type": "code",
   "execution_count": 47,
   "metadata": {},
   "outputs": [
    {
     "data": {
      "text/plain": [
       "LinearRegression()"
      ]
     },
     "execution_count": 47,
     "metadata": {},
     "output_type": "execute_result"
    }
   ],
   "source": [
    "#Ennustemallille annetaan parametreina:\n",
    "#feature matrix (muutosta selittävät muuttujat) ja\n",
    "#target (ennustettava muuttuja, joka muuttuu feature matrixin muutosten vuoksi)\n",
    "malli_4 = LinearRegression().fit(X_train, y_train)\n",
    "###komennolla fit() sovitetaan malli dataan. Se on se komento, jolla konetta opetetaan\n",
    "\n",
    "malli_4"
   ]
  },
  {
   "cell_type": "code",
   "execution_count": 48,
   "metadata": {},
   "outputs": [
    {
     "data": {
      "text/plain": [
       "array([-0.64697098,  3.9169303 , -0.95483295])"
      ]
     },
     "execution_count": 48,
     "metadata": {},
     "output_type": "execute_result"
    }
   ],
   "source": [
    "#Suoraviivaisen mallin trendiviivan/regressiosuoran kulmakerroin\n",
    "malli_4.coef_\n",
    "#Kulmakerroin tarkoittaa feature matrixin (X) muutoksen aiheuttavan\n",
    "#kulmakertoimen verran muutosta targetin (y) osalta"
   ]
  },
  {
   "cell_type": "code",
   "execution_count": 49,
   "metadata": {},
   "outputs": [
    {
     "data": {
      "text/plain": [
       "23.681070268714848"
      ]
     },
     "execution_count": 49,
     "metadata": {},
     "output_type": "execute_result"
    }
   ],
   "source": [
    "#Suoraviivaisen mallin vakiotermi\n",
    "malli_4.intercept_\n",
    "##Vakiotermi antaa targetille arvon feature matrixin ollessa nolla"
   ]
  },
  {
   "cell_type": "markdown",
   "metadata": {},
   "source": [
    "#### 1. algoritmin soveltuvuuden arviointi (1/2): Kuinka paljon keskimäärin ennuste on epäkelpo\n",
    "\n",
    "(ESIMERKKI 2/2, <b><font color =\"red\">enemmän kuin yksi</font></b> Feature matrix muuttuja)"
   ]
  },
  {
   "cell_type": "code",
   "execution_count": 50,
   "metadata": {},
   "outputs": [
    {
     "name": "stdout",
     "output_type": "stream",
     "text": [
      "Mallin sopivuus OPETUSDATAAN\n",
      "--------------------------------------\n",
      "Keskimääräinen virhe: 3.69817186489697\n",
      "Selityskerroin: 0.6725214335656511\n",
      "\n",
      "\n",
      "Mallin sopivuus TESTIDATAAN\n",
      "--------------------------------------\n",
      "Keskimääräinen virhe: 3.6914772094857233\n",
      "Selityskerroin: 0.6915878280744173\n"
     ]
    }
   ],
   "source": [
    "#Ei asenneta Anacondassa vaan kerrotaan mistä \"from foo.bar\" tuodaan käytettäväksi \"import lorem_ipsus\"\n",
    "##toiminnallisuus, joka laskee ennustevirheiden itseisarvojen\n",
    "##keskiarvon (käytännössä poistaa miinusmerkit ennustevirheistä)\n",
    "from sklearn.metrics import mean_absolute_error\n",
    "\n",
    "#Vakiintuneen tavan mukaan target (ennustettava muuttuja) on y\n",
    "#Vakiintuneen tavan mukaan feature matrix (selittävä muuttuja) on iso X\n",
    "#Malli-olion predict-toiminnolla voidaan laskea ennusteet\n",
    "##Opetusdatan \"train\" antamat ennusteet \"X_train\" feature matrixilla \n",
    "y_train_predict = malli_4.predict(X_train)\n",
    "##print(X_train.shape)\n",
    "##(404, 2)\n",
    "###datasetissä on 404 riviä ja testidataan jäi 102\n",
    "###print(X_test.shape)\n",
    "###(102, 2)\n",
    "\n",
    "#Keskimääräinen ennustevirhe targetille, jossa lähtötietona on toteumat\n",
    "#opetusdatasta \"y_train\" ja niitä verrataan opetusdatasta muodostettuihin \n",
    "#ennusteisiin \"y_train_predict\"\n",
    "mae = (mean_absolute_error(y_train, y_train_predict))\n",
    "##\"mean absolute error\" kertoo siis montako prosenttia ennusteista epäonnistuu\n",
    "\n",
    "#Ennustemallin selityskerroin arvioi kuinka monta prosenttia targetin vaihtelusta\n",
    "#voidaan selittää feature matrixilla\n",
    "#(kuinka merkittäviä kokeiltavat selittävät muuttujat ovat)\n",
    "r2 = malli_4.score(X_train, y_train)\n",
    "\n",
    "print('Mallin sopivuus OPETUSDATAAN')\n",
    "print(\"--------------------------------------\")\n",
    "print('Keskimääräinen virhe: {}'.format(mae))\n",
    "print('Selityskerroin: {}'.format(r2))\n",
    "print(\"\\n\")\n",
    "\n",
    "#####################################################################################\n",
    "\n",
    "\n",
    "#Toistetaan yllä oleva opetusdatan lisäksi myös testidatalle, jota\n",
    "#algoritmi ei ole nähnyt koulutusvaiheessa\n",
    "y_test_predict = malli_4.predict(X_test)\n",
    "mae = (mean_absolute_error(y_test, y_test_predict))\n",
    "r2 = malli_4.score(X_test, y_test)\n",
    "\n",
    "print('Mallin sopivuus TESTIDATAAN')\n",
    "print('--------------------------------------')\n",
    "print('Keskimääräinen virhe: {}'.format(mae))\n",
    "print('Selityskerroin: {}'.format(r2))"
   ]
  },
  {
   "cell_type": "markdown",
   "metadata": {},
   "source": [
    "Mikäli algoritmin suorittaman ennustustoiminnon jälkeen testidatalle saadaan suurempi keskimääräinen virhe ja pienempi selityskerroin kuin opetusdatalle, niin viittaa se siihen, että testidataa on ylimallinnettu pois yleispätevästä (eli otettu mukaan liikaa muuttujia tai muuta turhaa käsittelyä, joka on kohdedata specifiä ilman yleispätevyyttä)\n",
    "\n"
   ]
  },
  {
   "cell_type": "markdown",
   "metadata": {},
   "source": [
    "Kahdella selittävällä määrällisellä muuttujalla ('LSTAT' ja 'RM')\n",
    "<br>\n",
    "Mallin sopivuus OPETUSDATAAN\n",
    "<br>\n",
    "Keskimääräinen virhe: 4.031115615178024\n",
    "<br>\n",
    "Selityskerroin: 0.6300745149331701\n",
    "<br>\n",
    "Mallin sopivuus TESTIDATAAN\n",
    "<br>\n",
    "Keskimääräinen virhe: 3.7913102133431047\n",
    "<br>\n",
    "Selityskerroin: 0.6628996975186953\n",
    "<br>\n",
    "<br>\n",
    "Kolmella selittävällä määrällisellä muuttujalla ('LSTAT', 'RM' ja 'PTRATIO')\n",
    "<br>\n",
    "Mallin sopivuus OPETUSDATAAN\n",
    "<br>\n",
    "Keskimääräinen virhe: 3.69817186489697\n",
    "<br>\n",
    "Selityskerroin: 0.6725214335656511\n",
    "<br>\n",
    "Mallin sopivuus TESTIDATAAN\n",
    "<br>\n",
    "Keskimääräinen virhe: 3.6914772094857233\n",
    "<br>\n",
    "Selityskerroin: 0.6915878280744173\n",
    "<br>\n",
    "<br>\n",
    "Kolmella selittävällä määrällisellä muuttujalla ja logaritmuunnoksella oikaistulla käyrällä ('LSTAT2', 'RM' ja 'PTRATIO')\n",
    "<br>\n",
    "Mallin sopivuus OPETUSDATAAN\n",
    "<br>\n",
    "Keskimääräinen virhe: 3.4661238175277758\n",
    "<br>\n",
    "Selityskerroin: 0.7269572646730218\n",
    "<br>\n",
    "Mallin sopivuus TESTIDATAAN\n",
    "<br>\n",
    "Keskimääräinen virhe: 3.3941242922975428\n",
    "<br>\n",
    "Selityskerroin: 0.753237887010362"
   ]
  },
  {
   "cell_type": "markdown",
   "metadata": {},
   "source": [
    "#### 1. algoritmin soveltuvuuden arviointi (2/2): Testidatan tiedossa olevien toteumien vertaaminen ennustemallin antamiin laskelmiin\n",
    "\n",
    "(ESIMERKKI 2/2, <b><font color =\"red\">enemmän kuin yksi</font></b> Feature matrix muuttuja)"
   ]
  },
  {
   "cell_type": "code",
   "execution_count": 51,
   "metadata": {},
   "outputs": [
    {
     "data": {
      "text/plain": [
       "<seaborn.axisgrid.JointGrid at 0x22fa4cc20a0>"
      ]
     },
     "execution_count": 51,
     "metadata": {},
     "output_type": "execute_result"
    },
    {
     "data": {
      "image/png": "[encoded data removed]",
      "text/plain": [
       "<Figure size 432x432 with 3 Axes>"
      ]
     },
     "metadata": {},
     "output_type": "display_data"
    }
   ],
   "source": [
    "#DataFramen luominen\n",
    "test = pd.DataFrame()\n",
    "\n",
    "#Vakiintuneen tavan mukaan target (ennustettava muuttuja) on y\n",
    "#DataFrameen sarakkeen lisääminen ja sinne arvojen sijoittaminen\n",
    "test['y_test'] = y_test\n",
    "#DataFrameen sarakkeen lisääminen ja sinne arvojen sijoittaminen\n",
    "test['y_test_predict'] = y_test_predict\n",
    "\n",
    "#Muuttujien välisen yhteyden visualisointi yhdistettynä samaan kaavioon\n",
    "#Hajontakaaviossa suoraviivaisen riippuvuuden saa sen trendiviivan kuvan osalta mukaan\n",
    "#(suoraviivainen ennustemalli) antamalla \"kind\" parametrin arvoksi 'reg' \n",
    "sns.jointplot(data=test, x='y_test',y='y_test_predict',kind='reg')\n",
    "#Muuttuja itsessään esitetään histogrammina kaavion reunalla"
   ]
  },
  {
   "cell_type": "markdown",
   "metadata": {},
   "source": [
    "Malli on sitä parempi mitä enemmän hajontakaavion havaintopisteet keskittyvät lähemmäksi korrelaation lineaarisen suoranviivan riippuvuuden osalta lähimmäksi \"trendiviivaa\""
   ]
  },
  {
   "cell_type": "markdown",
   "metadata": {},
   "source": [
    "Yllä olevassa kuviossa on havaintopisteiden osalta nähtävissä lievää kaarevuuden muodostumista täysin suoran viivan sijaan myös kolmannen muuttujan mukaan ottamisen jälkeen. Sen lisäksi kaarikaan ei muodostu täysin yhteneväisesti vaan pisteet vaikuttavat olevan vähän hajallaan, sinne tänne hujan hajan"
   ]
  },
  {
   "cell_type": "markdown",
   "metadata": {},
   "source": [
    "Käyräviivaista (kaarevaa) riippuvuutta voi koettaa suoraviivaistaa ottamalla määrällisestä muuttujasta logaritmin"
   ]
  },
  {
   "cell_type": "markdown",
   "metadata": {},
   "source": [
    "# Tehty: Kolmannen muuttujan lisääminen feature matrixiin\n",
    "\n",
    "# Tehty: Hajontakaaviossa suoraviivaisen riippuvuuden trendiviivan ympärille keskittyvien havaintojen kaarevan käyrän viivan oikaisemisen yritys "
   ]
  },
  {
   "cell_type": "markdown",
   "metadata": {},
   "source": [
    "Tekemättä: MEDV muuttujaan liittyvä anomalia (poikkeama)"
   ]
  },
  {
   "cell_type": "code",
   "execution_count": null,
   "metadata": {},
   "outputs": [],
   "source": []
  },
  {
   "cell_type": "code",
   "execution_count": 52,
   "metadata": {},
   "outputs": [
    {
     "name": "stdout",
     "output_type": "stream",
     "text": [
      "Lopeteltu 2021-06-29 21:23:17.783244\n"
     ]
    }
   ],
   "source": [
    "from datetime import datetime\n",
    "print(f'Lopeteltu {datetime.now()}')"
   ]
  },
  {
   "cell_type": "code",
   "execution_count": null,
   "metadata": {},
   "outputs": [],
   "source": []
  }
 ],
 "metadata": {
  "kernelspec": {
   "display_name": "Python 3",
   "language": "python",
   "name": "python3"
  },
  "language_info": {
   "codemirror_mode": {
    "name": "ipython",
    "version": 3
   },
   "file_extension": ".py",
   "mimetype": "text/x-python",
   "name": "python",
   "nbconvert_exporter": "python",
   "pygments_lexer": "ipython3",
   "version": "3.8.5"
  }
 },
 "nbformat": 4,
 "nbformat_minor": 4
}
