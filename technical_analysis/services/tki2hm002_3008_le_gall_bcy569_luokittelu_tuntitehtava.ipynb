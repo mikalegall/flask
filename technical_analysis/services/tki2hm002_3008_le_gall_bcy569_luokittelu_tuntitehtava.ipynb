{
 "cells": [
  {
   "cell_type": "markdown",
   "metadata": {},
   "source": [
    "Perusprosessissa Data Wrangling \n",
    "<br>\n",
    "https://en.wikipedia.org/wiki/Data_wrangling\n",
    "<br>\n",
    "eli datan valmistelu (ETL putsaus jne) vie yleensä 80% työajasta. Datan valmistelu koneoppimisen malleja varten:\n",
    "<br>\n",
    "https://nbviewer.jupyter.org/github/taanila/tilastoapu/blob/master/datan_valmistelu.ipynb\n",
    "<br>\n",
    "Luokittele sen jälkeen pystyrivit (sarakkeet) joko kategorisiin tai määrällisiin. Ja esitä analytiikan osa-alueen (perinteisen neliportaisen tason) mukaisia, siis ihmismielelle mielekkäitä, kysymyksiä aineistolle:\n"
   ]
  },
  {
   "cell_type": "markdown",
   "metadata": {},
   "source": [
    "#### Ennakoiva analytiikka: Koneoppiminen\n",
    "https://tilastoapu.wordpress.com/2019/08/03/koneoppiminen-ja-scikit-learn-kirjasto/\n",
    "#### Lähestyminen valitaan sen mukaan<br>1. onko jo etukäteen saatavilla ennustettavan muuttujan todellisia arvoja (label) vahvistettuina tietoina (training set eli opetusdata, supervised learning)<br>2. vai ei (unsupervised learning) ja kolmantena mahdollisuutena on<br>3. algoritmin palkitseminen tai rankaiseminen (reinforcement learning) sen suorittaessa analytiikkaa\n",
    "\n",
    "Koneoppiminen opetusdatasta (supervised learning):\n",
    "<br>\n",
    "Lähestyminen valitaan sen mukaan onko ennustettavan muuttujan (target) arvot kategorisia (discrete label) vai määrällisiä (continuous label):\n",
    "<br>\n",
    "Kategoriselle muuttujalle luokittelumalli\n",
    "<br>\n",
    "Määrälliselle muuttujalle regressio-malli\n",
    "<br>\n",
    "Feature matrix tarkoittaa muuttujia, jotka selittävät ennustettavaa muuttujaa (target)\n",
    "<br>\n",
    "<font color=\"grey\">Koneoppiminen ilman opetusdataa (unsupervised learning):\n",
    "<br>\n",
    "Klusterointi-malli (pyritään löytämään yhteen kuuluvat havainnot, esim. K-means)\n",
    "<br>\n",
    "Yksinkertaistamisen malli (core: pienin mahdollinen määrä muuttujia joka selittää riittävästi asiaa, esim. pääkomponenttianalyysi)\n",
    "<br>\n",
    "<i>Syvä oppiminen (deep learning) pohjautuu neuroverkkomenetelmiin, joilla pyritään myös jäljittelemään ihmisaivojenkin toimintaa</i>\n",
    "</font>"
   ]
  },
  {
   "cell_type": "markdown",
   "metadata": {},
   "source": [
    "SUPERVISED LEARNING (<b><font color=\"red\">eri malleja pitää vaan työläästi kokeilla</font></b>)\n",
    "<br>\n",
    "<b>Luokittelumalleja kategoriselle target muuttujalle</b>:\n",
    "<br>\n",
    "K lähintä naapuria (K nearest neighbor), Päätöspuut (decision trees), Gaussian Naiivi Bayes, Logistinen regressio.\n",
    "<br>\n",
    "käyttötarkoituksena esim:\n",
    "<br>\n",
    "OCR (Optical Character Recognition) eli kuvapikseleistä esim. auton rekisterinumeron muuttaminen tekstiksi, kuvapikseleistä esineen tunnistaminen, röntgenkuvasta sairauden tunnistaminen, maksuhäiriöön ajautumisen todennäköisyys, vakuutuspetos, roskapostin suodatus jne\n",
    "<br>\n",
    "HUOM! Mikäli kategorista targettia selittävään feature matrixiin otetaan mukaan kategorisia muuttujia, tulee ne kategoriset feature matrixin selittävät muuttujat muuttaa dikotomisiksi dummy muuttujiksi eli nolliksi ja ykkösiksi pandas kirjaston 'get_dummies()' komennolla\n",
    "<br>\n",
    "df_dummies = pd.get_dummies(df)\n",
    "<br>\n",
    "HUOM! Yllä oleva komento muuttaa data framen kaikki tekstimuotoiset kategoriset muuttujat dummyiksi, mutta jos kategorinen muuttuja on muuta muotoa, niin silloin tulee antaa lisäparametreilla pandakselle tieto mitkä sarakkeet muutetaan \n",
    "<br>\n",
    "<br>\n",
    "<b>Useimmiten regressiomalli on target määrälliselle muuttujalle tarkoituksenmukaisin</b> (selittävä feature matrix on määrällinen muuttuja, koska korrelaatio):\n",
    "<br>\n",
    "lineaarinen regressio (etsitään suora viiva joka parhaiten kulkee havaintojen kautta)\n",
    "<br>\n",
    "käyttötarkoituksena esim:\n",
    "<br>\n",
    "kysynnän ennustaminen, asunnon hinta (onko saunaa, parveketta tms), käytetyn auton hinta jne\n"
   ]
  },
  {
   "cell_type": "code",
   "execution_count": null,
   "metadata": {},
   "outputs": [],
   "source": []
  },
  {
   "cell_type": "markdown",
   "metadata": {},
   "source": [
    "LUOKITTELU"
   ]
  },
  {
   "cell_type": "code",
   "execution_count": 1,
   "metadata": {},
   "outputs": [
    {
     "data": {
      "text/plain": [
       "['Solarize_Light2',\n",
       " '_classic_test_patch',\n",
       " 'bmh',\n",
       " 'classic',\n",
       " 'dark_background',\n",
       " 'fast',\n",
       " 'fivethirtyeight',\n",
       " 'ggplot',\n",
       " 'grayscale',\n",
       " 'seaborn',\n",
       " 'seaborn-bright',\n",
       " 'seaborn-colorblind',\n",
       " 'seaborn-dark',\n",
       " 'seaborn-dark-palette',\n",
       " 'seaborn-darkgrid',\n",
       " 'seaborn-deep',\n",
       " 'seaborn-muted',\n",
       " 'seaborn-notebook',\n",
       " 'seaborn-paper',\n",
       " 'seaborn-pastel',\n",
       " 'seaborn-poster',\n",
       " 'seaborn-talk',\n",
       " 'seaborn-ticks',\n",
       " 'seaborn-white',\n",
       " 'seaborn-whitegrid',\n",
       " 'tableau-colorblind10']"
      ]
     },
     "execution_count": 1,
     "metadata": {},
     "output_type": "execute_result"
    }
   ],
   "source": [
    "#Tuodaan käytettäväksi data-analytiikan kirjasto pandas ja\n",
    "#lyhennetään sitä kutsuttavaksi aliaksella pd\n",
    "## https://pandas.pydata.org/docs/user_guide/dsintro.html#dataframe\n",
    "import pandas as pd\n",
    "\n",
    "#Tuodaan graafiseen esittämiseen matplotlib ja sen käyttöliittymäksi pyplot\n",
    "## https://matplotlib.org/stable/api/_as_gen/matplotlib.pyplot.html?highlight=pyplot#module-matplotlib.pyplot\n",
    "import matplotlib.pyplot as plt\n",
    "\n",
    "#Vaaditaan vanhoissa Juptter Notebook versioissa, jotta kaaviot tulostuvat\n",
    "%matplotlib inline\n",
    "\n",
    "#Katsotaan millaisia erilaisia muotoilutyylejä on saatavilla\n",
    "plt.style.available"
   ]
  },
  {
   "cell_type": "code",
   "execution_count": 2,
   "metadata": {},
   "outputs": [
    {
     "name": "stdout",
     "output_type": "stream",
     "text": [
      "<class 'pandas.core.frame.DataFrame'>\n",
      "RangeIndex: 150 entries, 0 to 149\n",
      "Data columns (total 5 columns):\n",
      " #   Column        Non-Null Count  Dtype  \n",
      "---  ------        --------------  -----  \n",
      " 0   sepal_length  150 non-null    float64\n",
      " 1   sepal_width   150 non-null    float64\n",
      " 2   petal_length  150 non-null    float64\n",
      " 3   petal_width   150 non-null    float64\n",
      " 4   species       150 non-null    object \n",
      "dtypes: float64(4), object(1)\n",
      "memory usage: 6.0+ KB\n"
     ]
    }
   ],
   "source": [
    "#Valitaan graafinen esittäminen muotoiltavaksi tietyllä tyylillä\n",
    "plt.style.use('seaborn-whitegrid')\n",
    "\n",
    "#Asetetaan näytettävien rivien rajoite (ei rajoitetta)\n",
    "pd.options.display.max_rows = None\n",
    "#Asetetaan näytettävien sarakkeiden rajoite (ei rajoitetta)\n",
    "pd.options.display.max_columns = None\n",
    "\n",
    "#Tuodaan graafisen esittämisen tyylimäärittelyt erilaisilla kaaviolajeilla\n",
    "#ja käytetään tätä tarvittaessa matplotlib esitysten \"ylikirjoittamiseen\"\n",
    "#(korvaamiseen silloin kun on silmälle mukavampia vaihtoehtoja tarjolla)\n",
    "import seaborn as sns\n",
    "\n",
    "# Harjoitteluun tarkoitettu datasetti Kurjenmiekat-kasveista (englanniksi iris) löytyy seaborn-kirjastosta\n",
    "## https://fi.wikipedia.org/wiki/Kurjenmiekat\n",
    "iris = sns.load_dataset('iris')\n",
    "\n",
    "#Tarkistetaan lähdetiedoston metatiedoista monessako sarakkeessa on\n",
    "#minkäkin verran arvoja ja mitä tyyppiä ne sisältää\n",
    "iris.info()\n"
   ]
  },
  {
   "cell_type": "code",
   "execution_count": 3,
   "metadata": {},
   "outputs": [
    {
     "data": {
      "text/html": [
       "<div>\n",
       "<style scoped>\n",
       "    .dataframe tbody tr th:only-of-type {\n",
       "        vertical-align: middle;\n",
       "    }\n",
       "\n",
       "    .dataframe tbody tr th {\n",
       "        vertical-align: top;\n",
       "    }\n",
       "\n",
       "    .dataframe thead th {\n",
       "        text-align: right;\n",
       "    }\n",
       "</style>\n",
       "<table border=\"1\" class=\"dataframe\">\n",
       "  <thead>\n",
       "    <tr style=\"text-align: right;\">\n",
       "      <th></th>\n",
       "      <th>sepal_length</th>\n",
       "      <th>sepal_width</th>\n",
       "      <th>petal_length</th>\n",
       "      <th>petal_width</th>\n",
       "      <th>species</th>\n",
       "    </tr>\n",
       "  </thead>\n",
       "  <tbody>\n",
       "    <tr>\n",
       "      <th>145</th>\n",
       "      <td>6.7</td>\n",
       "      <td>3.0</td>\n",
       "      <td>5.2</td>\n",
       "      <td>2.3</td>\n",
       "      <td>virginica</td>\n",
       "    </tr>\n",
       "    <tr>\n",
       "      <th>146</th>\n",
       "      <td>6.3</td>\n",
       "      <td>2.5</td>\n",
       "      <td>5.0</td>\n",
       "      <td>1.9</td>\n",
       "      <td>virginica</td>\n",
       "    </tr>\n",
       "    <tr>\n",
       "      <th>147</th>\n",
       "      <td>6.5</td>\n",
       "      <td>3.0</td>\n",
       "      <td>5.2</td>\n",
       "      <td>2.0</td>\n",
       "      <td>virginica</td>\n",
       "    </tr>\n",
       "    <tr>\n",
       "      <th>148</th>\n",
       "      <td>6.2</td>\n",
       "      <td>3.4</td>\n",
       "      <td>5.4</td>\n",
       "      <td>2.3</td>\n",
       "      <td>virginica</td>\n",
       "    </tr>\n",
       "    <tr>\n",
       "      <th>149</th>\n",
       "      <td>5.9</td>\n",
       "      <td>3.0</td>\n",
       "      <td>5.1</td>\n",
       "      <td>1.8</td>\n",
       "      <td>virginica</td>\n",
       "    </tr>\n",
       "  </tbody>\n",
       "</table>\n",
       "</div>"
      ],
      "text/plain": [
       "     sepal_length  sepal_width  petal_length  petal_width    species\n",
       "145           6.7          3.0           5.2          2.3  virginica\n",
       "146           6.3          2.5           5.0          1.9  virginica\n",
       "147           6.5          3.0           5.2          2.0  virginica\n",
       "148           6.2          3.4           5.4          2.3  virginica\n",
       "149           5.9          3.0           5.1          1.8  virginica"
      ]
     },
     "execution_count": 3,
     "metadata": {},
     "output_type": "execute_result"
    }
   ],
   "source": [
    "#Kurkataan 5 vikaa riviä niinkuin Linuxissa ja nähdään sitenkin rivien määrä\n",
    "iris.tail()\n",
    "##tai 5 ekaa riviä\n",
    "##iris.head()"
   ]
  },
  {
   "cell_type": "code",
   "execution_count": 4,
   "metadata": {},
   "outputs": [
    {
     "data": {
      "text/html": [
       "<div>\n",
       "<style scoped>\n",
       "    .dataframe tbody tr th:only-of-type {\n",
       "        vertical-align: middle;\n",
       "    }\n",
       "\n",
       "    .dataframe tbody tr th {\n",
       "        vertical-align: top;\n",
       "    }\n",
       "\n",
       "    .dataframe thead th {\n",
       "        text-align: right;\n",
       "    }\n",
       "</style>\n",
       "<table border=\"1\" class=\"dataframe\">\n",
       "  <thead>\n",
       "    <tr style=\"text-align: right;\">\n",
       "      <th></th>\n",
       "      <th>sepal_length</th>\n",
       "      <th>sepal_width</th>\n",
       "      <th>petal_length</th>\n",
       "      <th>petal_width</th>\n",
       "      <th>species</th>\n",
       "    </tr>\n",
       "  </thead>\n",
       "  <tbody>\n",
       "    <tr>\n",
       "      <th>22</th>\n",
       "      <td>4.6</td>\n",
       "      <td>3.6</td>\n",
       "      <td>1.0</td>\n",
       "      <td>0.2</td>\n",
       "      <td>setosa</td>\n",
       "    </tr>\n",
       "    <tr>\n",
       "      <th>13</th>\n",
       "      <td>4.3</td>\n",
       "      <td>3.0</td>\n",
       "      <td>1.1</td>\n",
       "      <td>0.1</td>\n",
       "      <td>setosa</td>\n",
       "    </tr>\n",
       "    <tr>\n",
       "      <th>14</th>\n",
       "      <td>5.8</td>\n",
       "      <td>4.0</td>\n",
       "      <td>1.2</td>\n",
       "      <td>0.2</td>\n",
       "      <td>setosa</td>\n",
       "    </tr>\n",
       "  </tbody>\n",
       "</table>\n",
       "</div>"
      ],
      "text/plain": [
       "    sepal_length  sepal_width  petal_length  petal_width species\n",
       "22           4.6          3.6           1.0          0.2  setosa\n",
       "13           4.3          3.0           1.1          0.1  setosa\n",
       "14           5.8          4.0           1.2          0.2  setosa"
      ]
     },
     "execution_count": 4,
     "metadata": {},
     "output_type": "execute_result"
    }
   ],
   "source": [
    "#Näytetään kolme pienintä arvoa sarakkeesta 'petal_length' \n",
    "iris.nsmallest(n=3,columns='petal_length')"
   ]
  },
  {
   "cell_type": "code",
   "execution_count": 5,
   "metadata": {},
   "outputs": [
    {
     "data": {
      "text/html": [
       "<div>\n",
       "<style scoped>\n",
       "    .dataframe tbody tr th:only-of-type {\n",
       "        vertical-align: middle;\n",
       "    }\n",
       "\n",
       "    .dataframe tbody tr th {\n",
       "        vertical-align: top;\n",
       "    }\n",
       "\n",
       "    .dataframe thead th {\n",
       "        text-align: right;\n",
       "    }\n",
       "</style>\n",
       "<table border=\"1\" class=\"dataframe\">\n",
       "  <thead>\n",
       "    <tr style=\"text-align: right;\">\n",
       "      <th></th>\n",
       "      <th>sepal_length</th>\n",
       "      <th>sepal_width</th>\n",
       "      <th>petal_length</th>\n",
       "      <th>petal_width</th>\n",
       "      <th>species</th>\n",
       "    </tr>\n",
       "  </thead>\n",
       "  <tbody>\n",
       "    <tr>\n",
       "      <th>118</th>\n",
       "      <td>7.7</td>\n",
       "      <td>2.6</td>\n",
       "      <td>6.9</td>\n",
       "      <td>2.3</td>\n",
       "      <td>virginica</td>\n",
       "    </tr>\n",
       "    <tr>\n",
       "      <th>117</th>\n",
       "      <td>7.7</td>\n",
       "      <td>3.8</td>\n",
       "      <td>6.7</td>\n",
       "      <td>2.2</td>\n",
       "      <td>virginica</td>\n",
       "    </tr>\n",
       "    <tr>\n",
       "      <th>122</th>\n",
       "      <td>7.7</td>\n",
       "      <td>2.8</td>\n",
       "      <td>6.7</td>\n",
       "      <td>2.0</td>\n",
       "      <td>virginica</td>\n",
       "    </tr>\n",
       "  </tbody>\n",
       "</table>\n",
       "</div>"
      ],
      "text/plain": [
       "     sepal_length  sepal_width  petal_length  petal_width    species\n",
       "118           7.7          2.6           6.9          2.3  virginica\n",
       "117           7.7          3.8           6.7          2.2  virginica\n",
       "122           7.7          2.8           6.7          2.0  virginica"
      ]
     },
     "execution_count": 5,
     "metadata": {},
     "output_type": "execute_result"
    }
   ],
   "source": [
    "#Näytetään kolme suurinta arvoa sarakkeesta 'petal_length' \n",
    "iris.nlargest(n=3,columns='petal_length')"
   ]
  },
  {
   "cell_type": "code",
   "execution_count": 6,
   "metadata": {},
   "outputs": [
    {
     "data": {
      "text/html": [
       "<div>\n",
       "<style scoped>\n",
       "    .dataframe tbody tr th:only-of-type {\n",
       "        vertical-align: middle;\n",
       "    }\n",
       "\n",
       "    .dataframe tbody tr th {\n",
       "        vertical-align: top;\n",
       "    }\n",
       "\n",
       "    .dataframe thead th {\n",
       "        text-align: right;\n",
       "    }\n",
       "</style>\n",
       "<table border=\"1\" class=\"dataframe\">\n",
       "  <thead>\n",
       "    <tr style=\"text-align: right;\">\n",
       "      <th></th>\n",
       "      <th>sepal_length</th>\n",
       "      <th>sepal_width</th>\n",
       "      <th>petal_length</th>\n",
       "      <th>petal_width</th>\n",
       "      <th>species</th>\n",
       "    </tr>\n",
       "  </thead>\n",
       "  <tbody>\n",
       "    <tr>\n",
       "      <th>105</th>\n",
       "      <td>7.6</td>\n",
       "      <td>3.0</td>\n",
       "      <td>6.6</td>\n",
       "      <td>2.1</td>\n",
       "      <td>virginica</td>\n",
       "    </tr>\n",
       "    <tr>\n",
       "      <th>117</th>\n",
       "      <td>7.7</td>\n",
       "      <td>3.8</td>\n",
       "      <td>6.7</td>\n",
       "      <td>2.2</td>\n",
       "      <td>virginica</td>\n",
       "    </tr>\n",
       "    <tr>\n",
       "      <th>118</th>\n",
       "      <td>7.7</td>\n",
       "      <td>2.6</td>\n",
       "      <td>6.9</td>\n",
       "      <td>2.3</td>\n",
       "      <td>virginica</td>\n",
       "    </tr>\n",
       "    <tr>\n",
       "      <th>122</th>\n",
       "      <td>7.7</td>\n",
       "      <td>2.8</td>\n",
       "      <td>6.7</td>\n",
       "      <td>2.0</td>\n",
       "      <td>virginica</td>\n",
       "    </tr>\n",
       "    <tr>\n",
       "      <th>131</th>\n",
       "      <td>7.9</td>\n",
       "      <td>3.8</td>\n",
       "      <td>6.4</td>\n",
       "      <td>2.0</td>\n",
       "      <td>virginica</td>\n",
       "    </tr>\n",
       "  </tbody>\n",
       "</table>\n",
       "</div>"
      ],
      "text/plain": [
       "     sepal_length  sepal_width  petal_length  petal_width    species\n",
       "105           7.6          3.0           6.6          2.1  virginica\n",
       "117           7.7          3.8           6.7          2.2  virginica\n",
       "118           7.7          2.6           6.9          2.3  virginica\n",
       "122           7.7          2.8           6.7          2.0  virginica\n",
       "131           7.9          3.8           6.4          2.0  virginica"
      ]
     },
     "execution_count": 6,
     "metadata": {},
     "output_type": "execute_result"
    }
   ],
   "source": [
    "#Numeromuotoisen sarakkeen suodatus\n",
    "##Noudetaan data framesta Pandas kirjaston toiminnolla ne rivt, joissa\n",
    "#sarakkeen 'petal_length arvo on suurempi kuin 6.3 (suodatetaan rajoittimella > 6.3) \n",
    "iris[ iris['petal_length'] > 6.3 ]\n",
    "##Uloimmat hakasulut viittaavat muuttujan iris \"alkioon\" / sarakkeeseen ja\n",
    "#niiden hakasulkujen sisällä suoritetaan suodatus"
   ]
  },
  {
   "cell_type": "markdown",
   "metadata": {},
   "source": [
    "Yllä olevassa taulukossa\n",
    "<br>\n",
    "sepal = verholehti\n",
    "<br>\n",
    "https://fi.wikipedia.org/wiki/Verhi%C3%B6\n",
    "<br>\n",
    "petal = terälehti\n",
    "<br>\n",
    "https://fi.wikipedia.org/wiki/Teri%C3%B6\n",
    "<br>\n",
    "Lajikkeet ovat Setosa, Versicolor ja Virginica"
   ]
  },
  {
   "cell_type": "code",
   "execution_count": 7,
   "metadata": {},
   "outputs": [
    {
     "data": {
      "text/plain": [
       "sepal_length    0\n",
       "sepal_width     0\n",
       "petal_length    0\n",
       "petal_width     0\n",
       "species         0\n",
       "dtype: int64"
      ]
     },
     "execution_count": 7,
     "metadata": {},
     "output_type": "execute_result"
    }
   ],
   "source": [
    "#Mahdollisten tyhjien arvojen tarkistus\n",
    "iris.isnull().sum()"
   ]
  },
  {
   "cell_type": "code",
   "execution_count": 8,
   "metadata": {},
   "outputs": [
    {
     "data": {
      "text/plain": [
       "<seaborn.axisgrid.PairGrid at 0x13465fc5df0>"
      ]
     },
     "execution_count": 8,
     "metadata": {},
     "output_type": "execute_result"
    },
    {
     "data": {
      "image/png": "[encoded data removed]",
      "text/plain": [
       "<Figure size 799.125x720 with 20 Axes>"
      ]
     },
     "metadata": {},
     "output_type": "display_data"
    }
   ],
   "source": [
    "#Hajontakaaviossa voi kategorisen muuttujan eri arvoja esittää eri väreillä\n",
    "sns.pairplot(iris, hue='species')"
   ]
  },
  {
   "cell_type": "markdown",
   "metadata": {},
   "source": [
    "Tiedon esittäminen visualisoituna (datasetin aineistosta graafisessa muodossa) paljastaa hyvin havainnollistavasti alarivillä Y-akselin 'petal_width' ja X-akselin 'petal_length' leikkauspisteen ruudukossa kuinka Setosa-lajike erottautuu selkeästi muista Kurjenmiekoista (iris) pelkästään petal (terälehti) pituuden ja leveyden osalta.\n",
    "<br>\n",
    "<br>\n",
    "Yhtä selkeää eroa ei ole nähtävissä Versicolor ja Virginica lajikkeiden toisistaan erotteluun\n"
   ]
  },
  {
   "cell_type": "markdown",
   "metadata": {},
   "source": [
    "Ottamalla kaikki verho- ja terälehti muuttujat ('sepal_length', 'sepal_width', 'petal_length' ja 'petal_width') mukaan feature matrixiin voitaneen koulutusdatasta kouluttaa hyvin osuva koneoppimisen malli, joka oppii lajittelemaan Kurjenmiekan sen verho- ja terälehtien mittojen mukaan tarkoituksenmukaiseen targettiin (lajikkeeseen). <b><font color=\"red\">Eri malleja pitää vaan työläästi kokeilla</font></b>"
   ]
  },
  {
   "cell_type": "code",
   "execution_count": null,
   "metadata": {},
   "outputs": [],
   "source": []
  },
  {
   "cell_type": "markdown",
   "metadata": {},
   "source": [
    "Datan valmistelua (Data Wrangling) sen jakamiseksi koulutusdataan ja testidataan"
   ]
  },
  {
   "cell_type": "code",
   "execution_count": 9,
   "metadata": {},
   "outputs": [
    {
     "name": "stdout",
     "output_type": "stream",
     "text": [
      "(112, 4)\n",
      "(38, 4)\n",
      "(112,)\n",
      "(38,)\n"
     ]
    }
   ],
   "source": [
    "#Ei asenneta Anacondassa vaan kerrotaan mistä \"from foo.bar\" tuodaan käytettäväksi \"import lorem_ipsus\"\n",
    "##toiminnallisuus, joka jakaa datan\n",
    "from sklearn.model_selection import train_test_split\n",
    "\n",
    "#Vakiintuneen tavan mukaan feature matrix (selittävä muuttuja) on iso X\n",
    "##Poistetaan lajitieto\n",
    "X = iris.drop('species', axis=1)\n",
    "\n",
    "#Vakiintuneen tavan mukaan target (ennustettava muuttuja) on y\n",
    "y = iris['species']\n",
    "\n",
    "#random_state arvo määrittelee miten data erotellaan opetus- ja testidataan\n",
    "##eri kokeilukerroilla tulee käyttää samaa arvoa (arvolla itsellään ei ole mitään merkitystä)\n",
    "##sillä jos aineisto on jaettu eri tavalla osiin voi päätyä hyvinkin erilaiseen malliin\n",
    "X_train, X_test, y_train, y_test = train_test_split(X, y, random_state=4)\n",
    "###Käytännössä datasetissä otoksen jakamisen 'random_state' arvolla on\n",
    "###jonkilainen vaikutus ennustusprosentin osumatarkkuuteen\n",
    "### X_train, X_test, y_train, y_test = train_test_split(X, y, test_size = 0.2, random_state=5)\n",
    "#HUOM! Ennen tuotantoon deployausta toistetaan splittausta moneen eri kertaan eri jaotusarvoilla\n",
    "#ja tuotantoon pääty niistä kokeiluista jonkilainen keskiarvon tyyppinen ratkaisu\n",
    "\n",
    "\n",
    "#Katsotaan millaisiin paloihin jako tapahtui\n",
    "print(X_train.shape)\n",
    "print(X_test.shape)\n",
    "print(y_train.shape)\n",
    "print(y_test.shape)"
   ]
  },
  {
   "cell_type": "markdown",
   "metadata": {},
   "source": [
    "### Ennakoivan analytiikan mallin sovitus datasettiin (1/4)\n",
    "Koneoppimisessa kokeillaan erilaisia algoritmeja samaan historiadataan ja katsotaan mikä niistä arvaa parhaiten, kun ennustetta verrataan jo tiedossa oleviin toteumiin\n",
    "\n",
    "#### 1. algoritmi kokeilu (ensimmäinen sovitusyritys: Miten malli sopii toteumaan) "
   ]
  },
  {
   "cell_type": "markdown",
   "metadata": {},
   "source": [
    "#### KNN eli K-nearest neighbors (K-lähimmät naapurit) -menetelmässä\n",
    "<b><font color=\"red\">eri \"K\"-arvoja pitää vaan työläästi kokeilla</font></b>, jotta luotavan koneoppimisen malli opetusdatasta (supervised learning) luokittelee riittävän tarkasti uudet havainnot tarkoituksenmukaisiin kategorioihin\n",
    "<br>\n",
    "<br>\n",
    "Suora copy+paste\n",
    "<br>\n",
    "\"Etsitään luokiteltavalle havainnolle K lähintä naapuria opetusdatasta.\n",
    "\n",
    "Luokiteltava havainto sijoitetaan siihen luokkaan, joka on enemmistönä K:n lähimmän naapurin joukossa.\"\n",
    "<br>\n",
    "https://nbviewer.jupyter.org/github/taanila/tilastoapu/blob/master/iris_knn.ipynb"
   ]
  },
  {
   "cell_type": "code",
   "execution_count": 10,
   "metadata": {},
   "outputs": [
    {
     "data": {
      "text/plain": [
       "{'algorithm': 'auto',\n",
       " 'leaf_size': 30,\n",
       " 'metric': 'minkowski',\n",
       " 'metric_params': None,\n",
       " 'n_jobs': None,\n",
       " 'n_neighbors': 5,\n",
       " 'p': 2,\n",
       " 'weights': 'uniform'}"
      ]
     },
     "execution_count": 10,
     "metadata": {},
     "output_type": "execute_result"
    }
   ],
   "source": [
    "#Ei asenneta Anacondassa vaan kerrotaan mistä \"from foo.bar\" tuodaan käytettäväksi \"import lorem_ipsus\"\n",
    "##toiminnallisuus, joka suorittaa KNN-vertailun\n",
    "from sklearn.neighbors import KNeighborsClassifier\n",
    "\n",
    "#Luodaan malli-olio, jossa parametrin 'n_neighbors' arvo on 'K' eli\n",
    "#syötteenä saatavan Kurjenmiekan verho- ja terälehtien pituuksien ja paksuuksien\n",
    "#perusteella verrataan sitä, tässä esimerkkitapauksessa viiteen, 5 lähimpään\n",
    "#samoilla mitoilla oleviin naapureihin \n",
    "##(\"Etsitään luokiteltavalle havainnolle K lähintä naapuria opetusdatasta\")\n",
    "#JA\n",
    "#katsotaan siitä (tässä esimerkkitapauksessa viiden) 5 naapurostosta mihin\n",
    "#kategorisen muuttujan luokkaan 'species' (Kurjenmiekka-kasvin laji) enemmistö\n",
    "# naapureista on luokiteltu, ja päätellään syötteenä saatavan Kurjenmiekan\n",
    "# kuuluvan myös siihen samaan luokkaan\n",
    "##\"Luokiteltava havainto sijoitetaan siihen luokkaan, joka on enemmistönä K:n lähimmän naapurin joukossa.\"\n",
    "malli = KNeighborsClassifier(n_neighbors=5)\n",
    "\n",
    "#Ennustemallille annetaan parametreina:\n",
    "#feature matrix (muutosta selittävät muuttujat) ja\n",
    "#target (ennustettava muuttuja, joka muuttuu feature matrixin muutosten vuoksi)\n",
    "malli.fit(X_train, y_train)\n",
    "###komennolla fit() sovitetaan malli dataan. Se on se komento, jolla konetta opetetaan\n",
    "\n",
    "#Olion sisältämät toiminnallisuudet saa IDEssä esiin kirjoittamalla 'malli.'\n",
    "#ja naputtelemalla tabulaattoria (tai CTRL+SPACE)\n",
    "malli.get_params()"
   ]
  },
  {
   "cell_type": "markdown",
   "metadata": {},
   "source": [
    "#### 1. algoritmin soveltuvuuden arviointi: Miten ennuste osuu toteumaan"
   ]
  },
  {
   "cell_type": "code",
   "execution_count": 11,
   "metadata": {},
   "outputs": [
    {
     "data": {
      "text/plain": [
       "0.9732142857142857"
      ]
     },
     "execution_count": 11,
     "metadata": {},
     "output_type": "execute_result"
    }
   ],
   "source": [
    "#Malli-olion predict-toiminnolla voidaan laskea ennuste opetusdatalle\n",
    "y_train_malli = malli.predict(X_train)\n",
    "#Malli-olion predict-toiminnolla voidaan laskea ennuste testidatalle\n",
    "y_test_malli = malli.predict(X_test)\n",
    "\n",
    "#Ei asenneta Anacondassa vaan kerrotaan mistä \"from foo.bar\" tuodaan käytettäväksi \"import lorem_ipsus\"\n",
    "##toiminnallisuus, joka vertaa ennustuksen ja toteuman osumatarkkuutta\n",
    "from sklearn.metrics import accuracy_score\n",
    "\n",
    "#Opetusdatalle lasketun ennusteen vertaaminen tiedossa oleville\n",
    "#todellisille arvoille (label) ennustuksen osumatarkkuus prosentteina\n",
    "accuracy_score(y_train, y_train_malli)"
   ]
  },
  {
   "cell_type": "code",
   "execution_count": 12,
   "metadata": {},
   "outputs": [
    {
     "data": {
      "text/plain": [
       "0.9736842105263158"
      ]
     },
     "execution_count": 12,
     "metadata": {},
     "output_type": "execute_result"
    }
   ],
   "source": [
    "#Testidatalle lasketun ennusteen vertaaminen tiedossa oleville\n",
    "#todellisille arvoille (label) ennustuksen osumatarkkuus prosentteina\n",
    "accuracy_score(y_test, y_test_malli)\n",
    "##Algoritmi ei ole nähnyt testidataa koulutusvaiheessa ja testidatalla\n",
    "##varmistetaan ettei ole ylimallinnettu koulutusvaiheessa"
   ]
  },
  {
   "cell_type": "code",
   "execution_count": 13,
   "metadata": {},
   "outputs": [
    {
     "name": "stdout",
     "output_type": "stream",
     "text": [
      "[[32  0  0]\n",
      " [ 0 40  2]\n",
      " [ 0  1 37]]\n"
     ]
    }
   ],
   "source": [
    "#Ei asenneta Anacondassa vaan kerrotaan mistä \"from foo.bar\" tuodaan käytettäväksi \"import lorem_ipsus\"\n",
    "##toiminnallisuus, joka paljastaa epäonnistuneet ennustukset\n",
    "from sklearn.metrics import confusion_matrix\n",
    "\n",
    "#Opetusdatan osalta väärin ennustettujen esiin nostaminen \n",
    "print(confusion_matrix(y_train, y_train_malli))"
   ]
  },
  {
   "cell_type": "markdown",
   "metadata": {},
   "source": [
    "Yllä olevassa Kurjenmiekat-kasvin taulukossa ovat lajikkeet Setosa, Versicolor ja Virginica. Talukkoa luetaan siten, että luotu ennustemalli on onnistunut ennustamaan\n",
    "* ensimmäisellä rivillä (ja ensimmäisessä sarakkeessa) kaikki Setosat oikein\n",
    "* keskimmäisellä rivillä (ja keskimmäisessä sarakkeessa) Versicolorista lähes kaikki oikein, mutta osa oli mennyt vahingossa viimeiseen sarakkeeseen Virginicalle\n",
    "* viimeisellä rivillä (ja viimeisessä sarakkeessa) Virginicasta lähes kaikki oikein, mutta osa oli mennyt vahingossa keskimmäiseen sarakkeeseen  Versicolorille"
   ]
  },
  {
   "cell_type": "code",
   "execution_count": 14,
   "metadata": {},
   "outputs": [
    {
     "name": "stdout",
     "output_type": "stream",
     "text": [
      "[[18  0  0]\n",
      " [ 0  7  1]\n",
      " [ 0  0 12]]\n"
     ]
    }
   ],
   "source": [
    "#Testidatan osalta väärin ennustettujen esiin nostaminen \n",
    "print(confusion_matrix(y_test, y_test_malli))\n",
    "##Algoritmi ei ole nähnyt testidataa koulutusvaiheessa ja testidatalla\n",
    "##varmistetaan ettei ole ylimallinnettu koulutusvaiheessa"
   ]
  },
  {
   "cell_type": "markdown",
   "metadata": {},
   "source": [
    "Vaikuttaa siltä, että ei olla ylimallinnettu, koska algoritmiltä piilossa olleelle datalle saadaan ainoastaan yksi pieleen mennyt ennuste"
   ]
  },
  {
   "cell_type": "code",
   "execution_count": 15,
   "metadata": {},
   "outputs": [
    {
     "data": {
      "text/plain": [
       "array(['setosa', 'virginica', 'versicolor'], dtype=object)"
      ]
     },
     "execution_count": 15,
     "metadata": {},
     "output_type": "execute_result"
    }
   ],
   "source": [
    "#Täysin uuden Kurjenmiekka datasetin käyttöönotto, josta puuttuu\n",
    "#etukäteen tiedossa oleva 'species' label\n",
    "##Vakiintuneen tavan mukaan feature matrix (selittävä muuttuja) on iso X\n",
    "Xnew = pd.read_excel('http://taanila.fi/irisnew.xlsx')\n",
    "# Jos CSV https://pandas.pydata.org/pandas-docs/stable/reference/api/pandas.read_csv.html\n",
    "#TARKISTA TARVITAANKO\n",
    "##sepstr, default ‘,’\n",
    "##usecolslist-like or callable, optional\n",
    "\n",
    "#Pandas kirjastolla noudetaan txt-tiedostot ikään kuin ne olisivat csv-tiedostoja\n",
    "##erotimerkin muoto tulee ilmaista\n",
    "### sep='\\s+'\n",
    "\n",
    "#Vakiintuneen tavan mukaan feature matrix (selittävä muuttuja) on iso X\n",
    "##Malli-olion predict-toiminnolla suoritetaan täysin uuden\n",
    "##syötteen luokittelu kategoriaan\n",
    "malli.predict(Xnew)"
   ]
  },
  {
   "cell_type": "markdown",
   "metadata": {},
   "source": [
    "Uudessa datasetissä ei yksinkertaisuuden vuoksi ollut kuin kolme havaintoa. Yllä olevasta tulosteesta näkee, että juuri koulutettu koneoppimisen algoritmi jakoi taulukon\n",
    "* ensimmäisen rivin osalta Setosaksi\n",
    "* toisen rivin osalta Virginicaksi\n",
    "* kolmannen rivin osalta Versicoloriksi"
   ]
  },
  {
   "cell_type": "code",
   "execution_count": null,
   "metadata": {},
   "outputs": [],
   "source": []
  },
  {
   "cell_type": "markdown",
   "metadata": {},
   "source": [
    "### Ennakoivan analytiikan mallin sovitus datasettiin (2/4)\n",
    "Koneoppimisessa kokeillaan erilaisia algoritmeja samaan historiadataan ja katsotaan mikä niistä arvaa parhaiten, kun ennustetta verrataan jo tiedossa oleviin toteumiin\n",
    "\n",
    "#### 2. algoritmi kokeilu (ensimmäinen sovitusyritys: Miten malli sopii toteumaan) "
   ]
  },
  {
   "cell_type": "markdown",
   "metadata": {},
   "source": [
    "#### Päätöspuu-menetelmässä\n",
    "<b><font color=\"red\">puun haarautumisen syvyyden eri arvoja pitää vaan työläästi kokeilla</font></b>, jotta luotavan koneoppimisen malli opetusdatasta (supervised learning) luokittelee riittävän tarkasti uudet havainnot tarkoituksenmukaisiin kategorioihin\n",
    "<br>\n",
    "<br>\n",
    "Suora copy+paste\n",
    "<br>\n",
    "\"Jokaisessa haarautumisessa algoritmi valitsee parhaiten erottelevan selittävän muuttujan ja siihen liittyvän rajakohdan.\n",
    "\n",
    "Gini = millä todennäköisyydellä tehdään väärä luokittelu? Toimivassa päätöspuussa on haarautumisten jälkeen vain pieniä gini-arvoja.\"\n",
    "<br>\n",
    "https://nbviewer.jupyter.org/github/taanila/tilastoapu/blob/master/iris_dectree.ipynb"
   ]
  },
  {
   "cell_type": "code",
   "execution_count": 16,
   "metadata": {},
   "outputs": [
    {
     "name": "stdout",
     "output_type": "stream",
     "text": [
      "(112, 4)\n",
      "(38, 4)\n",
      "(112,)\n",
      "(38,)\n"
     ]
    }
   ],
   "source": [
    "#random_state arvo määrittelee miten data erotellaan opetus- ja testidataan\n",
    "##eri kokeilukerroilla tulee käyttää samaa arvoa (arvolla itsellään ei ole mitään merkitystä)\n",
    "##sillä jos aineisto on jaettu eri tavalla osiin voi päätyä hyvinkin erilaiseen malliin\n",
    "X_train, X_test, y_train, y_test = train_test_split(X, y, random_state=4)\n",
    "###Käytännössä datasetissä otoksen jakamisen 'random_state' arvolla on\n",
    "###jonkilainen vaikutus ennustusprosentin osumatarkkuuteen\n",
    "### X_train, X_test, y_train, y_test = train_test_split(X, y, test_size = 0.2, random_state=5)\n",
    "#HUOM! Ennen tuotantoon deployausta toistetaan splittausta moneen eri kertaan eri jaotusarvoilla\n",
    "#ja tuotantoon pääty niistä kokeiluista jonkilainen keskiarvon tyyppinen ratkaisu\n",
    "\n",
    "#Katsotaan millaisiin paloihin jako tapahtui\n",
    "print(X_train.shape)\n",
    "print(X_test.shape)\n",
    "print(y_train.shape)\n",
    "print(y_test.shape)"
   ]
  },
  {
   "cell_type": "code",
   "execution_count": 17,
   "metadata": {},
   "outputs": [
    {
     "data": {
      "text/plain": [
       "<function sklearn.tree._export.plot_tree(decision_tree, *, max_depth=None, feature_names=None, class_names=None, label='all', filled=False, impurity=True, node_ids=False, proportion=False, rotate='deprecated', rounded=False, precision=3, ax=None, fontsize=None)>"
      ]
     },
     "execution_count": 17,
     "metadata": {},
     "output_type": "execute_result"
    }
   ],
   "source": [
    "#Ei asenneta Anacondassa vaan kerrotaan mistä \"from foo.bar\" tuodaan käytettäväksi \"import lorem_ipsus\"\n",
    "##toiminnallisuus, joka muodostaa päätöspuun\n",
    "from sklearn import tree\n",
    "\n",
    "#Kirjastosta saatavat puun erilaiset toiminnallisuudet saa IDEssä esiin kirjoittamalla 'tree.'\n",
    "#ja naputtelemalla tabulaattoria (tai CTRL+SPACE)\n",
    "tree.plot_tree"
   ]
  },
  {
   "cell_type": "code",
   "execution_count": 18,
   "metadata": {},
   "outputs": [],
   "source": [
    "#Otetaan käyttöön perusmalli 'DecisionTreeClassifier'\n",
    "##ja annetaan päätöspuun haarautumisen enimmäissyvyys\n",
    "##parametrilla 'max_depth' \n",
    "malli_2 = tree.DecisionTreeClassifier(max_depth = 4)\n",
    "#Syvyttä säätelemällä mallin osumatarkkuus vaihtelee, mutta ei kannata\n",
    "#ylimallintaa suurilla luvuilla, sillä päätöspuulla kyllä päästään\n",
    "#tarvittaessa 100%:n osumatarkkuuteen, joka ei tuntemattoman datan kanssa\n",
    "#sitten enää toimikaan\n",
    "\n",
    "#Ennustemallille annetaan parametreina:\n",
    "#feature matrix (muutosta selittävät muuttujat) ja\n",
    "#target (ennustettava muuttuja, joka muuttuu feature matrixin muutosten vuoksi)\n",
    "malli_2.fit(X_train, y_train)\n",
    "###komennolla fit() sovitetaan malli dataan. Se on se komento, jolla konetta opetetaan\n",
    "\n",
    "\n",
    "#Malli-olion predict-toiminnolla voidaan laskea ennuste opetusdatalle\n",
    "y_train_malli_2 = malli_2.predict(X_train)\n",
    "#Malli-olion predict-toiminnolla voidaan laskea ennuste testidatalle\n",
    "y_test_malli_2 = malli_2.predict(X_test)"
   ]
  },
  {
   "cell_type": "code",
   "execution_count": 19,
   "metadata": {},
   "outputs": [
    {
     "data": {
      "text/plain": [
       "1.0"
      ]
     },
     "execution_count": 19,
     "metadata": {},
     "output_type": "execute_result"
    }
   ],
   "source": [
    "#Opetusdatalle lasketun ennusteen vertaaminen tiedossa oleville\n",
    "#todellisille arvoille (label) ennustuksen osumatarkkuus prosentteina\n",
    "accuracy_score(y_train, y_train_malli_2)"
   ]
  },
  {
   "cell_type": "code",
   "execution_count": 20,
   "metadata": {},
   "outputs": [
    {
     "data": {
      "text/plain": [
       "0.9736842105263158"
      ]
     },
     "execution_count": 20,
     "metadata": {},
     "output_type": "execute_result"
    }
   ],
   "source": [
    "#Testidatalle lasketun ennusteen vertaaminen tiedossa oleville\n",
    "#todellisille arvoille (label) ennustuksen osumatarkkuus prosentteina\n",
    "accuracy_score(y_test, y_test_malli_2)\n",
    "##Algoritmi ei ole nähnyt testidataa koulutusvaiheessa ja testidatalla\n",
    "##varmistetaan ettei ole ylimallinnettu koulutusvaiheessa"
   ]
  },
  {
   "cell_type": "code",
   "execution_count": 21,
   "metadata": {},
   "outputs": [
    {
     "name": "stdout",
     "output_type": "stream",
     "text": [
      "[[32  0  0]\n",
      " [ 0 42  0]\n",
      " [ 0  0 38]]\n"
     ]
    }
   ],
   "source": [
    "#Opetusdatan osalta väärin ennustettujen esiin nostaminen \n",
    "print(confusion_matrix(y_train, y_train_malli_2))"
   ]
  },
  {
   "cell_type": "markdown",
   "metadata": {},
   "source": [
    "Yllä olevassa Kurjenmiekat-kasvin taulukossa ovat lajikkeet Setosa, Versicolor ja Virginica. Talukkoa luetaan siten, että luotu ennustemalli on onnistunut ennustamaan\n",
    "* ensimmäisellä rivillä (ja ensimmäisessä sarakkeessa) kaikki Setosat oikein\n",
    "* keskimmäisellä rivillä (ja keskimmäisessä sarakkeessa) kaikki Versicolorista oikein\n",
    "* viimeisellä rivillä (ja viimeisessä sarakkeessa) kaikki Virginicasta oikein"
   ]
  },
  {
   "cell_type": "code",
   "execution_count": 22,
   "metadata": {},
   "outputs": [
    {
     "name": "stdout",
     "output_type": "stream",
     "text": [
      "[[18  0  0]\n",
      " [ 0  7  1]\n",
      " [ 0  0 12]]\n"
     ]
    }
   ],
   "source": [
    "#Testidatan osalta väärin ennustettujen esiin nostaminen \n",
    "print(confusion_matrix(y_test, y_test_malli_2))\n",
    "##Algoritmi ei ole nähnyt testidataa koulutusvaiheessa ja testidatalla\n",
    "##varmistetaan ettei ole ylimallinnettu koulutusvaiheessa"
   ]
  },
  {
   "cell_type": "markdown",
   "metadata": {},
   "source": [
    "Yllä olevassa Kurjenmiekat-kasvin taulukossa ovat lajikkeet Setosa, Versicolor ja Virginica. Talukkoa luetaan siten, että luotu ennustemalli on onnistunut ennustamaan\n",
    "* ensimmäisellä rivillä (ja ensimmäisessä sarakkeessa) kaikki Setosat oikein\n",
    "* keskimmäisellä rivillä (ja keskimmäisessä sarakkeessa) Versicolorista lähes kaikki oikein, mutta osa oli mennyt vahingossa viimeiseen sarakkeeseen Virginicalle\n",
    "* viimeisellä rivillä (ja viimeisessä sarakkeessa) kaikki Virginicat oikein"
   ]
  },
  {
   "cell_type": "code",
   "execution_count": 23,
   "metadata": {},
   "outputs": [
    {
     "data": {
      "text/plain": [
       "[Text(502.20000000000005, 489.24, 'X[3] <= 0.8\\ngini = 0.663\\nsamples = 112\\nvalue = [32, 42, 38]'),\n",
       " Text(424.9384615384615, 380.52000000000004, 'gini = 0.0\\nsamples = 32\\nvalue = [32, 0, 0]'),\n",
       " Text(579.4615384615385, 380.52000000000004, 'X[3] <= 1.75\\ngini = 0.499\\nsamples = 80\\nvalue = [0, 42, 38]'),\n",
       " Text(309.04615384615386, 271.8, 'X[2] <= 4.95\\ngini = 0.162\\nsamples = 45\\nvalue = [0, 41, 4]'),\n",
       " Text(154.52307692307693, 163.08000000000004, 'X[3] <= 1.65\\ngini = 0.048\\nsamples = 41\\nvalue = [0, 40, 1]'),\n",
       " Text(77.26153846153846, 54.360000000000014, 'gini = 0.0\\nsamples = 40\\nvalue = [0, 40, 0]'),\n",
       " Text(231.7846153846154, 54.360000000000014, 'gini = 0.0\\nsamples = 1\\nvalue = [0, 0, 1]'),\n",
       " Text(463.5692307692308, 163.08000000000004, 'X[3] <= 1.65\\ngini = 0.375\\nsamples = 4\\nvalue = [0, 1, 3]'),\n",
       " Text(386.3076923076923, 54.360000000000014, 'gini = 0.0\\nsamples = 3\\nvalue = [0, 0, 3]'),\n",
       " Text(540.8307692307692, 54.360000000000014, 'gini = 0.0\\nsamples = 1\\nvalue = [0, 1, 0]'),\n",
       " Text(849.876923076923, 271.8, 'X[2] <= 4.85\\ngini = 0.056\\nsamples = 35\\nvalue = [0, 1, 34]'),\n",
       " Text(772.6153846153846, 163.08000000000004, 'X[0] <= 5.95\\ngini = 0.444\\nsamples = 3\\nvalue = [0, 1, 2]'),\n",
       " Text(695.3538461538462, 54.360000000000014, 'gini = 0.0\\nsamples = 1\\nvalue = [0, 1, 0]'),\n",
       " Text(849.876923076923, 54.360000000000014, 'gini = 0.0\\nsamples = 2\\nvalue = [0, 0, 2]'),\n",
       " Text(927.1384615384616, 163.08000000000004, 'gini = 0.0\\nsamples = 32\\nvalue = [0, 0, 32]')]"
      ]
     },
     "execution_count": 23,
     "metadata": {},
     "output_type": "execute_result"
    },
    {
     "data": {
      "image/png": "[encoded data removed]",
      "text/plain": [
       "<Figure size 1296x720 with 1 Axes>"
      ]
     },
     "metadata": {},
     "output_type": "display_data"
    }
   ],
   "source": [
    "#Suurennetaan esitysaluetta oletuskoostaan suuremmaksi\n",
    "plt.figure(figsize=(18, 10))\n",
    "\n",
    "#Taustalle piiloon luotu päätöspuumalli esitetään plotaten graafisena visualisointina\n",
    "tree.plot_tree(malli_2)\n",
    "#Kirjastosta saatavat puun erilaiset toiminnallisuudet saa IDEssä esiin kirjoittamalla 'tree.'\n",
    "#ja naputtelemalla tabulaattoria (tai CTRL+SPACE)"
   ]
  },
  {
   "cell_type": "markdown",
   "metadata": {},
   "source": [
    "\"Jokaisessa haarautumisessa algoritmi valitsee parhaiten erottelevan selittävän muuttujan ja siihen liittyvän rajakohdan.\n",
    "<br>\n",
    "Gini = millä todennäköisyydellä tehdään väärä luokittelu? Toimivassa päätöspuussa on haarautumisten jälkeen vain pieniä gini-arvoja.\"\n",
    "<br>\n",
    "<br>\n",
    "Yllä olevassa päätöspuussa ylimmällä rivillä lähtötilanteessa X[2] viittaa terälehden pituuteen ('petal_length') If Then haaroituksessa booleania\n",
    "* vasemmalle mennään jos 'petal_length' on yhtäsuuri tai pienempi kuin 2,45 ja muutoin mennään oikealle (aiemmin rivillä 8 huomattiin tiedon visualisoinnissa kuinka kaikki Setosat olivat eroteltävissa terälehden avulla)"
   ]
  },
  {
   "cell_type": "code",
   "execution_count": 24,
   "metadata": {},
   "outputs": [
    {
     "data": {
      "text/html": [
       "<div>\n",
       "<style scoped>\n",
       "    .dataframe tbody tr th:only-of-type {\n",
       "        vertical-align: middle;\n",
       "    }\n",
       "\n",
       "    .dataframe tbody tr th {\n",
       "        vertical-align: top;\n",
       "    }\n",
       "\n",
       "    .dataframe thead th {\n",
       "        text-align: right;\n",
       "    }\n",
       "</style>\n",
       "<table border=\"1\" class=\"dataframe\">\n",
       "  <thead>\n",
       "    <tr style=\"text-align: right;\">\n",
       "      <th></th>\n",
       "      <th>sepal_length</th>\n",
       "      <th>sepal_width</th>\n",
       "      <th>petal_length</th>\n",
       "      <th>petal_width</th>\n",
       "      <th>species</th>\n",
       "    </tr>\n",
       "  </thead>\n",
       "  <tbody>\n",
       "    <tr>\n",
       "      <th>0</th>\n",
       "      <td>5.1</td>\n",
       "      <td>3.5</td>\n",
       "      <td>1.4</td>\n",
       "      <td>0.2</td>\n",
       "      <td>setosa</td>\n",
       "    </tr>\n",
       "    <tr>\n",
       "      <th>1</th>\n",
       "      <td>4.9</td>\n",
       "      <td>3.0</td>\n",
       "      <td>1.4</td>\n",
       "      <td>0.2</td>\n",
       "      <td>setosa</td>\n",
       "    </tr>\n",
       "    <tr>\n",
       "      <th>2</th>\n",
       "      <td>4.7</td>\n",
       "      <td>3.2</td>\n",
       "      <td>1.3</td>\n",
       "      <td>0.2</td>\n",
       "      <td>setosa</td>\n",
       "    </tr>\n",
       "    <tr>\n",
       "      <th>3</th>\n",
       "      <td>4.6</td>\n",
       "      <td>3.1</td>\n",
       "      <td>1.5</td>\n",
       "      <td>0.2</td>\n",
       "      <td>setosa</td>\n",
       "    </tr>\n",
       "    <tr>\n",
       "      <th>4</th>\n",
       "      <td>5.0</td>\n",
       "      <td>3.6</td>\n",
       "      <td>1.4</td>\n",
       "      <td>0.2</td>\n",
       "      <td>setosa</td>\n",
       "    </tr>\n",
       "  </tbody>\n",
       "</table>\n",
       "</div>"
      ],
      "text/plain": [
       "   sepal_length  sepal_width  petal_length  petal_width species\n",
       "0           5.1          3.5           1.4          0.2  setosa\n",
       "1           4.9          3.0           1.4          0.2  setosa\n",
       "2           4.7          3.2           1.3          0.2  setosa\n",
       "3           4.6          3.1           1.5          0.2  setosa\n",
       "4           5.0          3.6           1.4          0.2  setosa"
      ]
     },
     "execution_count": 24,
     "metadata": {},
     "output_type": "execute_result"
    }
   ],
   "source": [
    "iris.head()"
   ]
  },
  {
   "cell_type": "code",
   "execution_count": 25,
   "metadata": {},
   "outputs": [
    {
     "data": {
      "text/plain": [
       "array(['setosa', 'virginica', 'setosa'], dtype=object)"
      ]
     },
     "execution_count": 25,
     "metadata": {},
     "output_type": "execute_result"
    }
   ],
   "source": [
    "#Vakiintuneen tavan mukaan feature matrix (selittävä muuttuja) on iso X\n",
    "##Malli-olion predict-toiminnolla suoritetaan täysin uuden\n",
    "##syötteen luokittelu kategoriaan\n",
    "malli_2.predict(Xnew)"
   ]
  },
  {
   "cell_type": "markdown",
   "metadata": {},
   "source": [
    "Uudessa datasetissä ei yksinkertaisuuden vuoksi ollut kuin kolme havaintoa. Yllä olevasta tulosteesta näkee, että juuri koulutettu koneoppimisen algoritmi jakoi taulukon\n",
    "* ensimmäisen rivin osalta Setosaksi\n",
    "* toisen rivin osalta Virginicaksi\n",
    "* kolmannen rivin osalta Versicoloriksi"
   ]
  },
  {
   "cell_type": "code",
   "execution_count": null,
   "metadata": {},
   "outputs": [],
   "source": []
  },
  {
   "cell_type": "markdown",
   "metadata": {},
   "source": [
    "### Ennakoivan analytiikan mallin sovitus datasettiin (3/4)\n",
    "Koneoppimisessa kokeillaan erilaisia algoritmeja samaan historiadataan ja katsotaan mikä niistä arvaa parhaiten, kun ennustetta verrataan jo tiedossa oleviin toteumiin\n",
    "\n",
    "#### 3. algoritmi kokeilu (ensimmäinen sovitusyritys: Miten malli sopii toteumaan) "
   ]
  },
  {
   "cell_type": "markdown",
   "metadata": {},
   "source": [
    "#### Gaussian Naive Bayes -menetelmässä\n",
    "<br>\n",
    "eri target kategorioihin luokittelussa feature matrixin selittävät muuttujat arvioidaan normaalijakauma-olettamalla, josta lasketaan todennäköisyys kategoriaan kuulumisesta\n",
    "<br>\n",
    "<br>\n",
    "Suora copy+paste\n",
    "<br>\n",
    "\"todennäköisyyksien lukuarvot eivät sellaisenaan ole luotettavia. Olennaista on mallin toteuttama luokittelu.\"\n",
    "<br>\n",
    "ja\n",
    "<br>\n",
    "\"Mallin oletuksena on, että selittävien muuttujien arvot ovat kussakin luokassa toisistaan riippumattomia. Käytännössä Gaussian Naive Bayes toimii hyvin monenlaisten datojen kohdalla vaikka riippumattomuusoletus ei toteutuisikaan.\"\n",
    "<br>\n",
    "https://nbviewer.jupyter.org/github/taanila/tilastoapu/blob/master/iris_naive_bayes.ipynb"
   ]
  },
  {
   "cell_type": "code",
   "execution_count": 26,
   "metadata": {},
   "outputs": [
    {
     "name": "stdout",
     "output_type": "stream",
     "text": [
      "(112, 4)\n",
      "(38, 4)\n",
      "(112,)\n",
      "(38,)\n"
     ]
    }
   ],
   "source": [
    "#random_state arvo määrittelee miten data erotellaan opetus- ja testidataan\n",
    "##eri kokeilukerroilla tulee käyttää samaa arvoa (arvolla itsellään ei ole mitään merkitystä)\n",
    "##sillä jos aineisto on jaettu eri tavalla osiin voi päätyä hyvinkin erilaiseen malliin\n",
    "X_train, X_test, y_train, y_test = train_test_split(X, y, random_state=4)\n",
    "###Käytännössä datasetissä otoksen jakamisen 'random_state' arvolla on\n",
    "###jonkilainen vaikutus ennustusprosentin osumatarkkuuteen\n",
    "### X_train, X_test, y_train, y_test = train_test_split(X, y, test_size = 0.2, random_state=5)\n",
    "#HUOM! Ennen tuotantoon deployausta toistetaan splittausta moneen eri kertaan eri jaotusarvoilla\n",
    "#ja tuotantoon pääty niistä kokeiluista jonkilainen keskiarvon tyyppinen ratkaisu\n",
    "\n",
    "#Katsotaan millaisiin paloihin jako tapahtui\n",
    "print(X_train.shape)\n",
    "print(X_test.shape)\n",
    "print(y_train.shape)\n",
    "print(y_test.shape)"
   ]
  },
  {
   "cell_type": "code",
   "execution_count": 27,
   "metadata": {},
   "outputs": [
    {
     "data": {
      "text/plain": [
       "{'priors': None, 'var_smoothing': 1e-09}"
      ]
     },
     "execution_count": 27,
     "metadata": {},
     "output_type": "execute_result"
    }
   ],
   "source": [
    "#Ei asenneta Anacondassa vaan kerrotaan mistä \"from foo.bar\" tuodaan käytettäväksi \"import lorem_ipsus\"\n",
    "##toiminnallisuus, joka perustuu Bayesin teoreemaan (Gaussian Naive Bayes -menetelmä)\n",
    "from sklearn.naive_bayes import GaussianNB\n",
    "\n",
    "#Luodaan malli-olio\n",
    "malli_3 = GaussianNB()\n",
    "\n",
    "#Ennustemallille annetaan parametreina:\n",
    "#feature matrix (muutosta selittävät muuttujat) ja\n",
    "#target (ennustettava muuttuja, joka muuttuu feature matrixin muutosten vuoksi)\n",
    "malli_3.fit(X_train, y_train)\n",
    "###komennolla fit() sovitetaan malli dataan. Se on se komento, jolla konetta opetetaan\n",
    "\n",
    "#Olion sisältämät toiminnallisuudet saa IDEssä esiin kirjoittamalla 'malli.'\n",
    "#ja naputtelemalla tabulaattoria (tai CTRL+SPACE)\n",
    "malli_3.get_params()\n"
   ]
  },
  {
   "cell_type": "code",
   "execution_count": 28,
   "metadata": {},
   "outputs": [],
   "source": [
    "#Malli-olion predict-toiminnolla voidaan laskea ennuste opetusdatalle\n",
    "y_train_malli_3 = malli_3.predict(X_train)\n",
    "#Malli-olion predict-toiminnolla voidaan laskea ennuste testidatalle\n",
    "y_test_malli_3 = malli_3.predict(X_test)"
   ]
  },
  {
   "cell_type": "code",
   "execution_count": 29,
   "metadata": {},
   "outputs": [
    {
     "data": {
      "text/plain": [
       "0.9642857142857143"
      ]
     },
     "execution_count": 29,
     "metadata": {},
     "output_type": "execute_result"
    }
   ],
   "source": [
    "#Opetusdatalle lasketun ennusteen vertaaminen tiedossa oleville\n",
    "#todellisille arvoille (label) ennustuksen osumatarkkuus prosentteina\n",
    "accuracy_score(y_train, y_train_malli_3)"
   ]
  },
  {
   "cell_type": "code",
   "execution_count": 30,
   "metadata": {},
   "outputs": [
    {
     "data": {
      "text/plain": [
       "0.9736842105263158"
      ]
     },
     "execution_count": 30,
     "metadata": {},
     "output_type": "execute_result"
    }
   ],
   "source": [
    "#Testidatalle lasketun ennusteen vertaaminen tiedossa oleville\n",
    "#todellisille arvoille (label) ennustuksen osumatarkkuus prosentteina\n",
    "accuracy_score(y_test, y_test_malli_3)\n",
    "##Algoritmi ei ole nähnyt testidataa koulutusvaiheessa ja testidatalla\n",
    "##varmistetaan ettei ole ylimallinnettu koulutusvaiheessa"
   ]
  },
  {
   "cell_type": "code",
   "execution_count": 31,
   "metadata": {},
   "outputs": [
    {
     "name": "stdout",
     "output_type": "stream",
     "text": [
      "[[32  0  0]\n",
      " [ 0 40  2]\n",
      " [ 0  2 36]]\n"
     ]
    }
   ],
   "source": [
    "#Opetusdatan osalta väärin ennustettujen esiin nostaminen \n",
    "print(confusion_matrix(y_train, y_train_malli_3))"
   ]
  },
  {
   "cell_type": "markdown",
   "metadata": {},
   "source": [
    "Yllä olevassa Kurjenmiekat-kasvin taulukossa ovat lajikkeet Setosa, Versicolor ja Virginica. Talukkoa luetaan siten, että luotu ennustemalli on onnistunut ennustamaan\n",
    "* ensimmäisellä rivillä (ja ensimmäisessä sarakkeessa) kaikki Setosat oikein\n",
    "* keskimmäisellä rivillä (ja keskimmäisessä sarakkeessa) Versicolorista lähes kaikki oikein, mutta osa oli mennyt vahingossa viimeiseen sarakkeeseen Virginicalle\n",
    "* viimeisellä rivillä (ja viimeisessä sarakkeessa) Virginicatista lähes kaikki oikein, mutta osa oli mennyt vahingossa keskimmäiseen sarakkeeseen Versicolorille"
   ]
  },
  {
   "cell_type": "code",
   "execution_count": 32,
   "metadata": {},
   "outputs": [
    {
     "name": "stdout",
     "output_type": "stream",
     "text": [
      "[[18  0  0]\n",
      " [ 0  8  0]\n",
      " [ 0  1 11]]\n"
     ]
    }
   ],
   "source": [
    "#Testidatan osalta väärin ennustettujen esiin nostaminen \n",
    "print(confusion_matrix(y_test, y_test_malli_3))\n",
    "##Algoritmi ei ole nähnyt testidataa koulutusvaiheessa ja testidatalla\n",
    "##varmistetaan ettei ole ylimallinnettu koulutusvaiheessa"
   ]
  },
  {
   "cell_type": "markdown",
   "metadata": {},
   "source": [
    "Yllä olevassa Kurjenmiekat-kasvin taulukossa ovat lajikkeet Setosa, Versicolor ja Virginica. Talukkoa luetaan siten, että luotu ennustemalli on onnistunut ennustamaan\n",
    "* ensimmäisellä rivillä (ja ensimmäisessä sarakkeessa) kaikki Setosat oikein\n",
    "* keskimmäisellä rivillä (ja keskimmäisessä sarakkeessa) kaikki Versicolorista oikein\n",
    "* viimeisellä rivillä (ja viimeisessä sarakkeessa) Virginicatista lähes kaikki oikein, mutta osa oli mennyt vahingossa keskimmäiseen sarakkeeseen Versicolorille "
   ]
  },
  {
   "cell_type": "code",
   "execution_count": 33,
   "metadata": {},
   "outputs": [
    {
     "data": {
      "text/plain": [
       "array(['setosa', 'virginica', 'versicolor'], dtype='<U10')"
      ]
     },
     "execution_count": 33,
     "metadata": {},
     "output_type": "execute_result"
    }
   ],
   "source": [
    "#Vakiintuneen tavan mukaan feature matrix (selittävä muuttuja) on iso X\n",
    "##Malli-olion predict-toiminnolla suoritetaan täysin uuden\n",
    "##syötteen luokittelu kategoriaan\n",
    "malli_3.predict(Xnew)"
   ]
  },
  {
   "cell_type": "markdown",
   "metadata": {},
   "source": [
    "Uudessa datasetissä ei yksinkertaisuuden vuoksi ollut kuin kolme havaintoa. Yllä olevasta tulosteesta näkee, että juuri koulutettu koneoppimisen algoritmi jakoi taulukon\n",
    "* ensimmäisen rivin osalta Setosaksi\n",
    "* toisen rivin osalta Virginicaksi\n",
    "* kolmannen rivin osalta Versicoloriksi"
   ]
  },
  {
   "cell_type": "code",
   "execution_count": null,
   "metadata": {},
   "outputs": [],
   "source": []
  },
  {
   "cell_type": "markdown",
   "metadata": {},
   "source": [
    "### Ennakoivan analytiikan mallin sovitus datasettiin (4/4)\n",
    "Koneoppimisessa kokeillaan erilaisia algoritmeja samaan historiadataan ja katsotaan mikä niistä arvaa parhaiten, kun ennustetta verrataan jo tiedossa oleviin toteumiin\n",
    "\n",
    "#### 4. algoritmi kokeilu (ensimmäinen sovitusyritys: Miten malli sopii toteumaan) "
   ]
  },
  {
   "cell_type": "markdown",
   "metadata": {},
   "source": [
    "#### Logistinen regressio -menetelmästä\n",
    "voi lukea lisää sijainnissa https://tilastoapu.wordpress.com/2014/04/25/logistinen-regressio/\n",
    "<br>\n",
    "Logistisella regressiolla saadaan ennustavan luokittelun lisäksi myös hyviä todennäköisyyksiä luokittelun paikkaansapitävyydelle\n",
    "<br>\n",
    "<br>\n",
    "Suora copy+paste\n",
    "<br>\n",
    "\"Logistinen regressio on luokittelumenetelmä eikä sitä pidä sekoittaa tavalliseen regressioon.\"\n",
    "<br>\n",
    "https://nbviewer.jupyter.org/github/taanila/tilastoapu/blob/master/iris_logr.ipynb"
   ]
  },
  {
   "cell_type": "code",
   "execution_count": 34,
   "metadata": {},
   "outputs": [
    {
     "name": "stdout",
     "output_type": "stream",
     "text": [
      "(112, 4)\n",
      "(38, 4)\n",
      "(112,)\n",
      "(38,)\n"
     ]
    }
   ],
   "source": [
    "#random_state arvo määrittelee miten data erotellaan opetus- ja testidataan\n",
    "##eri kokeilukerroilla tulee käyttää samaa arvoa (arvolla itsellään ei ole mitään merkitystä)\n",
    "##sillä jos aineisto on jaettu eri tavalla osiin voi päätyä hyvinkin erilaiseen malliin\n",
    "X_train, X_test, y_train, y_test = train_test_split(X, y, random_state=4)\n",
    "###Käytännössä datasetissä otoksen jakamisen 'random_state' arvolla on\n",
    "###jonkilainen vaikutus ennustusprosentin osumatarkkuuteen\n",
    "### X_train, X_test, y_train, y_test = train_test_split(X, y, test_size = 0.2, random_state=5)\n",
    "#HUOM! Ennen tuotantoon deployausta toistetaan splittausta moneen eri kertaan eri jaotusarvoilla\n",
    "#ja tuotantoon pääty niistä kokeiluista jonkilainen keskiarvon tyyppinen ratkaisu\n",
    "\n",
    "#Katsotaan millaisiin paloihin jako tapahtui\n",
    "print(X_train.shape)\n",
    "print(X_test.shape)\n",
    "print(y_train.shape)\n",
    "print(y_test.shape)"
   ]
  },
  {
   "cell_type": "code",
   "execution_count": 35,
   "metadata": {},
   "outputs": [
    {
     "data": {
      "text/plain": [
       "{'C': 1.0,\n",
       " 'class_weight': None,\n",
       " 'dual': False,\n",
       " 'fit_intercept': True,\n",
       " 'intercept_scaling': 1,\n",
       " 'l1_ratio': None,\n",
       " 'max_iter': 10000,\n",
       " 'multi_class': 'auto',\n",
       " 'n_jobs': None,\n",
       " 'penalty': 'l2',\n",
       " 'random_state': None,\n",
       " 'solver': 'lbfgs',\n",
       " 'tol': 0.0001,\n",
       " 'verbose': 0,\n",
       " 'warm_start': False}"
      ]
     },
     "execution_count": 35,
     "metadata": {},
     "output_type": "execute_result"
    }
   ],
   "source": [
    "#Ei asenneta Anacondassa vaan kerrotaan mistä \"from foo.bar\" tuodaan käytettäväksi \"import lorem_ipsus\"\n",
    "##toiminnallisuus, joka toteuttaa Logistisen regressiomallin\n",
    "from sklearn.linear_model import LogisticRegression\n",
    "\n",
    "#Luodaan malli-olio ja herjan vuoksi lisätään iteraatioita\n",
    "malli_4 = LogisticRegression(max_iter = 10000)\n",
    "\n",
    "#Ennustemallille annetaan parametreina:\n",
    "#feature matrix (muutosta selittävät muuttujat) ja\n",
    "#target (ennustettava muuttuja, joka muuttuu feature matrixin muutosten vuoksi)\n",
    "malli_4.fit(X_train, y_train)\n",
    "###komennolla fit() sovitetaan malli dataan. Se on se komento, jolla konetta opetetaan\n",
    "\n",
    "#Olion sisältämät toiminnallisuudet saa IDEssä esiin kirjoittamalla 'malli.'\n",
    "#ja naputtelemalla tabulaattoria (tai CTRL+SPACE)\n",
    "malli_4.get_params()"
   ]
  },
  {
   "cell_type": "code",
   "execution_count": 36,
   "metadata": {},
   "outputs": [],
   "source": [
    "#Malli-olion predict-toiminnolla voidaan laskea ennuste opetusdatalle\n",
    "y_train_malli_4 = malli_4.predict(X_train)\n",
    "#Malli-olion predict-toiminnolla voidaan laskea ennuste testidatalle\n",
    "y_test_malli_4 = malli_4.predict(X_test)"
   ]
  },
  {
   "cell_type": "code",
   "execution_count": 37,
   "metadata": {},
   "outputs": [
    {
     "data": {
      "text/plain": [
       "0.9910714285714286"
      ]
     },
     "execution_count": 37,
     "metadata": {},
     "output_type": "execute_result"
    }
   ],
   "source": [
    "#Opetusdatalle lasketun ennusteen vertaaminen tiedossa oleville\n",
    "#todellisille arvoille (label) ennustuksen osumatarkkuus prosentteina\n",
    "accuracy_score(y_train, y_train_malli_4)"
   ]
  },
  {
   "cell_type": "code",
   "execution_count": 38,
   "metadata": {},
   "outputs": [
    {
     "data": {
      "text/plain": [
       "0.9736842105263158"
      ]
     },
     "execution_count": 38,
     "metadata": {},
     "output_type": "execute_result"
    }
   ],
   "source": [
    "#Testidatalle lasketun ennusteen vertaaminen tiedossa oleville\n",
    "#todellisille arvoille (label) ennustuksen osumatarkkuus prosentteina\n",
    "accuracy_score(y_test, y_test_malli_4)\n",
    "##Algoritmi ei ole nähnyt testidataa koulutusvaiheessa ja testidatalla\n",
    "##varmistetaan ettei ole ylimallinnettu koulutusvaiheessa"
   ]
  },
  {
   "cell_type": "code",
   "execution_count": 39,
   "metadata": {},
   "outputs": [
    {
     "name": "stdout",
     "output_type": "stream",
     "text": [
      "[[32  0  0]\n",
      " [ 0 41  1]\n",
      " [ 0  0 38]]\n"
     ]
    }
   ],
   "source": [
    "#Opetusdatan osalta väärin ennustettujen esiin nostaminen \n",
    "print(confusion_matrix(y_train, y_train_malli_4))"
   ]
  },
  {
   "cell_type": "code",
   "execution_count": 40,
   "metadata": {},
   "outputs": [
    {
     "name": "stdout",
     "output_type": "stream",
     "text": [
      "[[18  0  0]\n",
      " [ 0  7  1]\n",
      " [ 0  0 12]]\n"
     ]
    }
   ],
   "source": [
    "#Testidatan osalta väärin ennustettujen esiin nostaminen \n",
    "print(confusion_matrix(y_test, y_test_malli_4))\n",
    "##Algoritmi ei ole nähnyt testidataa koulutusvaiheessa ja testidatalla\n",
    "##varmistetaan ettei ole ylimallinnettu koulutusvaiheessa"
   ]
  },
  {
   "cell_type": "markdown",
   "metadata": {},
   "source": [
    "Yllä olevassa Kurjenmiekat-kasvin taulukossa ovat lajikkeet Setosa, Versicolor ja Virginica. Talukkoa luetaan siten, että luotu ennustemalli on onnistunut ennustamaan\n",
    "* ensimmäisellä rivillä (ja ensimmäisessä sarakkeessa) kaikki Setosat oikein\n",
    "* keskimmäisellä rivillä (ja keskimmäisessä sarakkeessa) Versicolorista lähes kaikki oikein, mutta osa oli mennyt vahingossa viimeiseen sarakkeeseen Virginicalle\n",
    "* viimeisellä rivillä (ja viimeisessä sarakkeessa) kaikki Virginicatit oikein "
   ]
  },
  {
   "cell_type": "code",
   "execution_count": 41,
   "metadata": {},
   "outputs": [
    {
     "data": {
      "text/plain": [
       "array(['setosa', 'virginica', 'versicolor'], dtype=object)"
      ]
     },
     "execution_count": 41,
     "metadata": {},
     "output_type": "execute_result"
    }
   ],
   "source": [
    "#Vakiintuneen tavan mukaan feature matrix (selittävä muuttuja) on iso X\n",
    "##Malli-olion predict-toiminnolla suoritetaan täysin uuden\n",
    "##syötteen luokittelu kategoriaan\n",
    "malli_4.predict(Xnew)"
   ]
  },
  {
   "cell_type": "markdown",
   "metadata": {},
   "source": [
    "Uudessa datasetissä ei yksinkertaisuuden vuoksi ollut kuin kolme havaintoa. Yllä olevasta tulosteesta näkee, että juuri koulutettu koneoppimisen algoritmi jakoi taulukon\n",
    "* ensimmäisen rivin osalta Setosaksi\n",
    "* toisen rivin osalta Virginicaksi\n",
    "* kolmannen rivin osalta Versicoloriksi"
   ]
  },
  {
   "cell_type": "code",
   "execution_count": 42,
   "metadata": {},
   "outputs": [
    {
     "data": {
      "text/plain": [
       "array([[9.66304156e-01, 3.36957224e-02, 1.21399018e-07],\n",
       "       [6.02376376e-07, 2.85094471e-02, 9.71489950e-01],\n",
       "       [1.89745438e-01, 8.10077361e-01, 1.77201327e-04]])"
      ]
     },
     "execution_count": 42,
     "metadata": {},
     "output_type": "execute_result"
    }
   ],
   "source": [
    "#Logistisella regressiolla saadaan ennustavan luokittelun lisäksi\n",
    "#myös hyviä todennäköisyyksiä luokittelun paikkaansapitävyydelle \n",
    "malli_4.predict_proba(Xnew)"
   ]
  },
  {
   "cell_type": "markdown",
   "metadata": {},
   "source": [
    "Yllä olevaa taulukkoa luetaan siten, että taulukon ensimmäinen havainto on 96,63% todennäköisyydellä Setosa ja 3.37% todennäköisyydellä Versicolor sekä 0,00001% todennäköisyydellä Virginica"
   ]
  },
  {
   "cell_type": "code",
   "execution_count": null,
   "metadata": {},
   "outputs": [],
   "source": []
  },
  {
   "cell_type": "code",
   "execution_count": 43,
   "metadata": {},
   "outputs": [
    {
     "name": "stdout",
     "output_type": "stream",
     "text": [
      "Lopeteltu 2021-06-29 21:24:01.603072\n"
     ]
    }
   ],
   "source": [
    "from datetime import datetime\n",
    "print(f'Lopeteltu {datetime.now()}')"
   ]
  },
  {
   "cell_type": "code",
   "execution_count": null,
   "metadata": {},
   "outputs": [],
   "source": []
  }
 ],
 "metadata": {
  "kernelspec": {
   "display_name": "Python 3",
   "language": "python",
   "name": "python3"
  },
  "language_info": {
   "codemirror_mode": {
    "name": "ipython",
    "version": 3
   },
   "file_extension": ".py",
   "mimetype": "text/x-python",
   "name": "python",
   "nbconvert_exporter": "python",
   "pygments_lexer": "ipython3",
   "version": "3.8.5"
  }
 },
 "nbformat": 4,
 "nbformat_minor": 4
}
